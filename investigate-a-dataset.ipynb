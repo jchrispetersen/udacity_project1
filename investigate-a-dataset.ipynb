{
 "cells": [
  {
   "cell_type": "markdown",
   "metadata": {},
   "source": [
    "# Project 1: Investigating Gun and Census Data\n",
    "\n",
    "## Table of Contents\n",
    "<ul>\n",
    "<li><a href=\"#intro\">Introduction</a></li>\n",
    "<li><a href=\"#wrangling\">Data Wrangling</a></li>\n",
    "<li><a href=\"#eda\">Exploratory Data Analysis</a></li>\n",
    "<li><a href=\"#conclusions\">Conclusions</a></li>\n",
    "</ul>"
   ]
  },
  {
   "cell_type": "markdown",
   "metadata": {},
   "source": [
    "<a id='intro'></a>\n",
    "## Introduction:\n",
    "\n",
    "### The dataset I have chosen for this analysis is the NCIS firearm background check data and census data.  This project has relied on multiple learning resources.  The primary resource was the video course series from Udacity, several introductory resources put together by WGU for pandas, anaconda, markup, and juypter notebooks.  I supplemented these resources with a few stack overflow, geeksforgeeks.org, and pandas.pydata.org queries.  \n",
    "\n",
    "### I have chosen several questions to investigate to see if there is a relationship supported by the data:  \n",
    "<ul>\n",
    "<li> What states have the largest gun registration growth between 2013 and 2017?</li>\n",
    "<li> Do gun registrations increase during election years?</li>\n",
    "<li> Does ethnic diversity impact gun regristrations? </li>\n",
    "</ul>"
   ]
  },
  {
   "cell_type": "code",
   "execution_count": 1,
   "metadata": {},
   "outputs": [],
   "source": [
    "import pandas as pd\n",
    "import numpy as np\n"
   ]
  },
  {
   "cell_type": "markdown",
   "metadata": {},
   "source": [
    "<a id='wrangling'></a>\n",
    "## Data Wrangling\n",
    "\n",
    "\n",
    "### General Properties"
   ]
  },
  {
   "cell_type": "markdown",
   "metadata": {},
   "source": [
    "#### First, all the data is read in via pd"
   ]
  },
  {
   "cell_type": "code",
   "execution_count": 2,
   "metadata": {
    "scrolled": true
   },
   "outputs": [],
   "source": [
    "census = pd.read_csv('C:\\\\Users\\\\chris\\\\Desktop\\\\Udacity files\\\\Project 1//U.S. Census Data.csv')"
   ]
  },
  {
   "cell_type": "code",
   "execution_count": 3,
   "metadata": {},
   "outputs": [],
   "source": [
    "gun = pd.read_excel('C:\\\\Users\\\\chris\\\\Desktop\\\\Udacity files\\\\Project 1//gun_data.xlsx')"
   ]
  },
  {
   "cell_type": "markdown",
   "metadata": {},
   "source": [
    "#### Next, we want to describe the data to see what we imported:"
   ]
  },
  {
   "cell_type": "code",
   "execution_count": 4,
   "metadata": {},
   "outputs": [
    {
     "data": {
      "text/html": [
       "<div>\n",
       "<style scoped>\n",
       "    .dataframe tbody tr th:only-of-type {\n",
       "        vertical-align: middle;\n",
       "    }\n",
       "\n",
       "    .dataframe tbody tr th {\n",
       "        vertical-align: top;\n",
       "    }\n",
       "\n",
       "    .dataframe thead th {\n",
       "        text-align: right;\n",
       "    }\n",
       "</style>\n",
       "<table border=\"1\" class=\"dataframe\">\n",
       "  <thead>\n",
       "    <tr style=\"text-align: right;\">\n",
       "      <th></th>\n",
       "      <th>Fact</th>\n",
       "      <th>Fact Note</th>\n",
       "      <th>Alabama</th>\n",
       "      <th>Alaska</th>\n",
       "      <th>Arizona</th>\n",
       "      <th>Arkansas</th>\n",
       "      <th>California</th>\n",
       "      <th>Colorado</th>\n",
       "      <th>Connecticut</th>\n",
       "      <th>Delaware</th>\n",
       "      <th>...</th>\n",
       "      <th>South Dakota</th>\n",
       "      <th>Tennessee</th>\n",
       "      <th>Texas</th>\n",
       "      <th>Utah</th>\n",
       "      <th>Vermont</th>\n",
       "      <th>Virginia</th>\n",
       "      <th>Washington</th>\n",
       "      <th>West Virginia</th>\n",
       "      <th>Wisconsin</th>\n",
       "      <th>Wyoming</th>\n",
       "    </tr>\n",
       "  </thead>\n",
       "  <tbody>\n",
       "    <tr>\n",
       "      <th>count</th>\n",
       "      <td>80</td>\n",
       "      <td>28</td>\n",
       "      <td>65</td>\n",
       "      <td>65</td>\n",
       "      <td>65</td>\n",
       "      <td>65</td>\n",
       "      <td>65</td>\n",
       "      <td>65</td>\n",
       "      <td>65</td>\n",
       "      <td>65</td>\n",
       "      <td>...</td>\n",
       "      <td>65</td>\n",
       "      <td>65</td>\n",
       "      <td>65</td>\n",
       "      <td>65</td>\n",
       "      <td>65</td>\n",
       "      <td>65</td>\n",
       "      <td>65</td>\n",
       "      <td>65</td>\n",
       "      <td>65</td>\n",
       "      <td>65</td>\n",
       "    </tr>\n",
       "    <tr>\n",
       "      <th>unique</th>\n",
       "      <td>80</td>\n",
       "      <td>15</td>\n",
       "      <td>65</td>\n",
       "      <td>64</td>\n",
       "      <td>64</td>\n",
       "      <td>64</td>\n",
       "      <td>63</td>\n",
       "      <td>64</td>\n",
       "      <td>63</td>\n",
       "      <td>64</td>\n",
       "      <td>...</td>\n",
       "      <td>65</td>\n",
       "      <td>64</td>\n",
       "      <td>64</td>\n",
       "      <td>64</td>\n",
       "      <td>63</td>\n",
       "      <td>65</td>\n",
       "      <td>65</td>\n",
       "      <td>64</td>\n",
       "      <td>65</td>\n",
       "      <td>64</td>\n",
       "    </tr>\n",
       "    <tr>\n",
       "      <th>top</th>\n",
       "      <td>Median selected monthly owner costs -without a...</td>\n",
       "      <td>(c)</td>\n",
       "      <td>67,370,353</td>\n",
       "      <td>7.30%</td>\n",
       "      <td>50.30%</td>\n",
       "      <td>50.90%</td>\n",
       "      <td>6.80%</td>\n",
       "      <td>3.30%</td>\n",
       "      <td>0.10%</td>\n",
       "      <td>51.60%</td>\n",
       "      <td>...</td>\n",
       "      <td>383838</td>\n",
       "      <td>0.048</td>\n",
       "      <td>50.40%</td>\n",
       "      <td>2.50%</td>\n",
       "      <td>1.90%</td>\n",
       "      <td>76,434</td>\n",
       "      <td>44,077</td>\n",
       "      <td>1.50%</td>\n",
       "      <td>370,755</td>\n",
       "      <td>7.10%</td>\n",
       "    </tr>\n",
       "    <tr>\n",
       "      <th>freq</th>\n",
       "      <td>1</td>\n",
       "      <td>6</td>\n",
       "      <td>1</td>\n",
       "      <td>2</td>\n",
       "      <td>2</td>\n",
       "      <td>2</td>\n",
       "      <td>2</td>\n",
       "      <td>2</td>\n",
       "      <td>2</td>\n",
       "      <td>2</td>\n",
       "      <td>...</td>\n",
       "      <td>1</td>\n",
       "      <td>2</td>\n",
       "      <td>2</td>\n",
       "      <td>2</td>\n",
       "      <td>2</td>\n",
       "      <td>1</td>\n",
       "      <td>1</td>\n",
       "      <td>2</td>\n",
       "      <td>1</td>\n",
       "      <td>2</td>\n",
       "    </tr>\n",
       "  </tbody>\n",
       "</table>\n",
       "<p>4 rows × 52 columns</p>\n",
       "</div>"
      ],
      "text/plain": [
       "                                                     Fact Fact Note  \\\n",
       "count                                                  80        28   \n",
       "unique                                                 80        15   \n",
       "top     Median selected monthly owner costs -without a...       (c)   \n",
       "freq                                                    1         6   \n",
       "\n",
       "           Alabama Alaska Arizona Arkansas California Colorado Connecticut  \\\n",
       "count           65     65      65       65         65       65          65   \n",
       "unique          65     64      64       64         63       64          63   \n",
       "top     67,370,353  7.30%  50.30%   50.90%      6.80%    3.30%       0.10%   \n",
       "freq             1      2       2        2          2        2           2   \n",
       "\n",
       "       Delaware  ... South Dakota Tennessee   Texas   Utah Vermont Virginia  \\\n",
       "count        65  ...           65        65      65     65      65       65   \n",
       "unique       64  ...           65        64      64     64      63       65   \n",
       "top      51.60%  ...       383838     0.048  50.40%  2.50%   1.90%   76,434   \n",
       "freq          2  ...            1         2       2      2       2        1   \n",
       "\n",
       "       Washington West Virginia Wisconsin Wyoming  \n",
       "count          65            65        65      65  \n",
       "unique         65            64        65      64  \n",
       "top        44,077         1.50%   370,755   7.10%  \n",
       "freq            1             2         1       2  \n",
       "\n",
       "[4 rows x 52 columns]"
      ]
     },
     "execution_count": 4,
     "metadata": {},
     "output_type": "execute_result"
    }
   ],
   "source": [
    "census.describe()"
   ]
  },
  {
   "cell_type": "markdown",
   "metadata": {},
   "source": [
    "#### Fact and Fact Note look like columns that may not be like the rest of the data. \n",
    "\n",
    "#### Display the header to see more about this data."
   ]
  },
  {
   "cell_type": "code",
   "execution_count": 5,
   "metadata": {
    "scrolled": true
   },
   "outputs": [
    {
     "data": {
      "text/html": [
       "<div>\n",
       "<style scoped>\n",
       "    .dataframe tbody tr th:only-of-type {\n",
       "        vertical-align: middle;\n",
       "    }\n",
       "\n",
       "    .dataframe tbody tr th {\n",
       "        vertical-align: top;\n",
       "    }\n",
       "\n",
       "    .dataframe thead th {\n",
       "        text-align: right;\n",
       "    }\n",
       "</style>\n",
       "<table border=\"1\" class=\"dataframe\">\n",
       "  <thead>\n",
       "    <tr style=\"text-align: right;\">\n",
       "      <th></th>\n",
       "      <th>Fact</th>\n",
       "      <th>Fact Note</th>\n",
       "      <th>Alabama</th>\n",
       "      <th>Alaska</th>\n",
       "      <th>Arizona</th>\n",
       "      <th>Arkansas</th>\n",
       "      <th>California</th>\n",
       "      <th>Colorado</th>\n",
       "      <th>Connecticut</th>\n",
       "      <th>Delaware</th>\n",
       "      <th>...</th>\n",
       "      <th>South Dakota</th>\n",
       "      <th>Tennessee</th>\n",
       "      <th>Texas</th>\n",
       "      <th>Utah</th>\n",
       "      <th>Vermont</th>\n",
       "      <th>Virginia</th>\n",
       "      <th>Washington</th>\n",
       "      <th>West Virginia</th>\n",
       "      <th>Wisconsin</th>\n",
       "      <th>Wyoming</th>\n",
       "    </tr>\n",
       "  </thead>\n",
       "  <tbody>\n",
       "    <tr>\n",
       "      <th>0</th>\n",
       "      <td>Population estimates, July 1, 2016,  (V2016)</td>\n",
       "      <td>NaN</td>\n",
       "      <td>4,863,300</td>\n",
       "      <td>741,894</td>\n",
       "      <td>6,931,071</td>\n",
       "      <td>2,988,248</td>\n",
       "      <td>39,250,017</td>\n",
       "      <td>5,540,545</td>\n",
       "      <td>3,576,452</td>\n",
       "      <td>952,065</td>\n",
       "      <td>...</td>\n",
       "      <td>865454</td>\n",
       "      <td>6651194</td>\n",
       "      <td>27,862,596</td>\n",
       "      <td>3,051,217</td>\n",
       "      <td>624,594</td>\n",
       "      <td>8,411,808</td>\n",
       "      <td>7,288,000</td>\n",
       "      <td>1,831,102</td>\n",
       "      <td>5,778,708</td>\n",
       "      <td>585,501</td>\n",
       "    </tr>\n",
       "    <tr>\n",
       "      <th>1</th>\n",
       "      <td>Population estimates base, April 1, 2010,  (V2...</td>\n",
       "      <td>NaN</td>\n",
       "      <td>4,780,131</td>\n",
       "      <td>710,249</td>\n",
       "      <td>6,392,301</td>\n",
       "      <td>2,916,025</td>\n",
       "      <td>37,254,522</td>\n",
       "      <td>5,029,324</td>\n",
       "      <td>3,574,114</td>\n",
       "      <td>897,936</td>\n",
       "      <td>...</td>\n",
       "      <td>814195</td>\n",
       "      <td>6346298</td>\n",
       "      <td>25,146,100</td>\n",
       "      <td>2,763,888</td>\n",
       "      <td>625,741</td>\n",
       "      <td>8,001,041</td>\n",
       "      <td>6,724,545</td>\n",
       "      <td>1,853,011</td>\n",
       "      <td>5,687,289</td>\n",
       "      <td>563,767</td>\n",
       "    </tr>\n",
       "    <tr>\n",
       "      <th>2</th>\n",
       "      <td>Population, percent change - April 1, 2010 (es...</td>\n",
       "      <td>NaN</td>\n",
       "      <td>1.70%</td>\n",
       "      <td>4.50%</td>\n",
       "      <td>8.40%</td>\n",
       "      <td>2.50%</td>\n",
       "      <td>5.40%</td>\n",
       "      <td>10.20%</td>\n",
       "      <td>0.10%</td>\n",
       "      <td>6.00%</td>\n",
       "      <td>...</td>\n",
       "      <td>0.063</td>\n",
       "      <td>0.048</td>\n",
       "      <td>10.80%</td>\n",
       "      <td>10.40%</td>\n",
       "      <td>-0.20%</td>\n",
       "      <td>5.10%</td>\n",
       "      <td>8.40%</td>\n",
       "      <td>-1.20%</td>\n",
       "      <td>1.60%</td>\n",
       "      <td>3.90%</td>\n",
       "    </tr>\n",
       "    <tr>\n",
       "      <th>3</th>\n",
       "      <td>Population, Census, April 1, 2010</td>\n",
       "      <td>NaN</td>\n",
       "      <td>4,779,736</td>\n",
       "      <td>710,231</td>\n",
       "      <td>6,392,017</td>\n",
       "      <td>2,915,918</td>\n",
       "      <td>37,253,956</td>\n",
       "      <td>5,029,196</td>\n",
       "      <td>3,574,097</td>\n",
       "      <td>897,934</td>\n",
       "      <td>...</td>\n",
       "      <td>814180</td>\n",
       "      <td>6346105</td>\n",
       "      <td>25,145,561</td>\n",
       "      <td>2,763,885</td>\n",
       "      <td>625,741</td>\n",
       "      <td>8,001,024</td>\n",
       "      <td>6,724,540</td>\n",
       "      <td>1,852,994</td>\n",
       "      <td>5,686,986</td>\n",
       "      <td>563,626</td>\n",
       "    </tr>\n",
       "    <tr>\n",
       "      <th>4</th>\n",
       "      <td>Persons under 5 years, percent, July 1, 2016, ...</td>\n",
       "      <td>NaN</td>\n",
       "      <td>6.00%</td>\n",
       "      <td>7.30%</td>\n",
       "      <td>6.30%</td>\n",
       "      <td>6.40%</td>\n",
       "      <td>6.30%</td>\n",
       "      <td>6.10%</td>\n",
       "      <td>5.20%</td>\n",
       "      <td>5.80%</td>\n",
       "      <td>...</td>\n",
       "      <td>0.071</td>\n",
       "      <td>0.061</td>\n",
       "      <td>7.20%</td>\n",
       "      <td>8.30%</td>\n",
       "      <td>4.90%</td>\n",
       "      <td>6.10%</td>\n",
       "      <td>6.20%</td>\n",
       "      <td>5.50%</td>\n",
       "      <td>5.80%</td>\n",
       "      <td>6.50%</td>\n",
       "    </tr>\n",
       "  </tbody>\n",
       "</table>\n",
       "<p>5 rows × 52 columns</p>\n",
       "</div>"
      ],
      "text/plain": [
       "                                                Fact Fact Note    Alabama  \\\n",
       "0       Population estimates, July 1, 2016,  (V2016)       NaN  4,863,300   \n",
       "1  Population estimates base, April 1, 2010,  (V2...       NaN  4,780,131   \n",
       "2  Population, percent change - April 1, 2010 (es...       NaN      1.70%   \n",
       "3                  Population, Census, April 1, 2010       NaN  4,779,736   \n",
       "4  Persons under 5 years, percent, July 1, 2016, ...       NaN      6.00%   \n",
       "\n",
       "    Alaska    Arizona   Arkansas  California   Colorado Connecticut Delaware  \\\n",
       "0  741,894  6,931,071  2,988,248  39,250,017  5,540,545   3,576,452  952,065   \n",
       "1  710,249  6,392,301  2,916,025  37,254,522  5,029,324   3,574,114  897,936   \n",
       "2    4.50%      8.40%      2.50%       5.40%     10.20%       0.10%    6.00%   \n",
       "3  710,231  6,392,017  2,915,918  37,253,956  5,029,196   3,574,097  897,934   \n",
       "4    7.30%      6.30%      6.40%       6.30%      6.10%       5.20%    5.80%   \n",
       "\n",
       "   ... South Dakota Tennessee       Texas       Utah  Vermont   Virginia  \\\n",
       "0  ...       865454   6651194  27,862,596  3,051,217  624,594  8,411,808   \n",
       "1  ...       814195   6346298  25,146,100  2,763,888  625,741  8,001,041   \n",
       "2  ...        0.063     0.048      10.80%     10.40%   -0.20%      5.10%   \n",
       "3  ...       814180   6346105  25,145,561  2,763,885  625,741  8,001,024   \n",
       "4  ...        0.071     0.061       7.20%      8.30%    4.90%      6.10%   \n",
       "\n",
       "  Washington West Virginia  Wisconsin  Wyoming  \n",
       "0  7,288,000     1,831,102  5,778,708  585,501  \n",
       "1  6,724,545     1,853,011  5,687,289  563,767  \n",
       "2      8.40%        -1.20%      1.60%    3.90%  \n",
       "3  6,724,540     1,852,994  5,686,986  563,626  \n",
       "4      6.20%         5.50%      5.80%    6.50%  \n",
       "\n",
       "[5 rows x 52 columns]"
      ]
     },
     "execution_count": 5,
     "metadata": {},
     "output_type": "execute_result"
    }
   ],
   "source": [
    "\n",
    "census.head()"
   ]
  },
  {
   "cell_type": "markdown",
   "metadata": {},
   "source": [
    "#### Fact and Fact Note are descriptive columns for the entries in the different states.  They will be important to clean the data later.  \n",
    "\n",
    "#### Repeat the same process on the gun data to see if there are any first impressions.  "
   ]
  },
  {
   "cell_type": "code",
   "execution_count": 6,
   "metadata": {},
   "outputs": [
    {
     "data": {
      "text/html": [
       "<div>\n",
       "<style scoped>\n",
       "    .dataframe tbody tr th:only-of-type {\n",
       "        vertical-align: middle;\n",
       "    }\n",
       "\n",
       "    .dataframe tbody tr th {\n",
       "        vertical-align: top;\n",
       "    }\n",
       "\n",
       "    .dataframe thead th {\n",
       "        text-align: right;\n",
       "    }\n",
       "</style>\n",
       "<table border=\"1\" class=\"dataframe\">\n",
       "  <thead>\n",
       "    <tr style=\"text-align: right;\">\n",
       "      <th></th>\n",
       "      <th>permit</th>\n",
       "      <th>permit_recheck</th>\n",
       "      <th>handgun</th>\n",
       "      <th>long_gun</th>\n",
       "      <th>other</th>\n",
       "      <th>multiple</th>\n",
       "      <th>admin</th>\n",
       "      <th>prepawn_handgun</th>\n",
       "      <th>prepawn_long_gun</th>\n",
       "      <th>prepawn_other</th>\n",
       "      <th>...</th>\n",
       "      <th>returned_other</th>\n",
       "      <th>rentals_handgun</th>\n",
       "      <th>rentals_long_gun</th>\n",
       "      <th>private_sale_handgun</th>\n",
       "      <th>private_sale_long_gun</th>\n",
       "      <th>private_sale_other</th>\n",
       "      <th>return_to_seller_handgun</th>\n",
       "      <th>return_to_seller_long_gun</th>\n",
       "      <th>return_to_seller_other</th>\n",
       "      <th>totals</th>\n",
       "    </tr>\n",
       "  </thead>\n",
       "  <tbody>\n",
       "    <tr>\n",
       "      <th>count</th>\n",
       "      <td>12461.000000</td>\n",
       "      <td>1100.000000</td>\n",
       "      <td>12465.000000</td>\n",
       "      <td>12466.000000</td>\n",
       "      <td>5500.000000</td>\n",
       "      <td>12485.000000</td>\n",
       "      <td>12462.000000</td>\n",
       "      <td>10542.000000</td>\n",
       "      <td>10540.000000</td>\n",
       "      <td>5115.000000</td>\n",
       "      <td>...</td>\n",
       "      <td>1815.000000</td>\n",
       "      <td>990.000000</td>\n",
       "      <td>825.000000</td>\n",
       "      <td>2750.000000</td>\n",
       "      <td>2750.000000</td>\n",
       "      <td>2750.000000</td>\n",
       "      <td>2475.000000</td>\n",
       "      <td>2750.000000</td>\n",
       "      <td>2255.000000</td>\n",
       "      <td>12485.000000</td>\n",
       "    </tr>\n",
       "    <tr>\n",
       "      <th>mean</th>\n",
       "      <td>6413.629404</td>\n",
       "      <td>1165.956364</td>\n",
       "      <td>5940.881107</td>\n",
       "      <td>7810.847585</td>\n",
       "      <td>360.471636</td>\n",
       "      <td>268.603364</td>\n",
       "      <td>58.898090</td>\n",
       "      <td>4.828021</td>\n",
       "      <td>7.834156</td>\n",
       "      <td>0.165591</td>\n",
       "      <td>...</td>\n",
       "      <td>1.027548</td>\n",
       "      <td>0.076768</td>\n",
       "      <td>0.087273</td>\n",
       "      <td>14.936000</td>\n",
       "      <td>11.602909</td>\n",
       "      <td>1.030182</td>\n",
       "      <td>0.402020</td>\n",
       "      <td>0.441818</td>\n",
       "      <td>0.105987</td>\n",
       "      <td>21595.725911</td>\n",
       "    </tr>\n",
       "    <tr>\n",
       "      <th>std</th>\n",
       "      <td>23752.338269</td>\n",
       "      <td>9224.200609</td>\n",
       "      <td>8618.584060</td>\n",
       "      <td>9309.846140</td>\n",
       "      <td>1349.478273</td>\n",
       "      <td>783.185073</td>\n",
       "      <td>604.814818</td>\n",
       "      <td>10.907756</td>\n",
       "      <td>16.468028</td>\n",
       "      <td>1.057105</td>\n",
       "      <td>...</td>\n",
       "      <td>4.386296</td>\n",
       "      <td>0.634503</td>\n",
       "      <td>0.671649</td>\n",
       "      <td>71.216021</td>\n",
       "      <td>54.253090</td>\n",
       "      <td>4.467843</td>\n",
       "      <td>1.446568</td>\n",
       "      <td>1.528223</td>\n",
       "      <td>0.427363</td>\n",
       "      <td>32591.418387</td>\n",
       "    </tr>\n",
       "    <tr>\n",
       "      <th>min</th>\n",
       "      <td>0.000000</td>\n",
       "      <td>0.000000</td>\n",
       "      <td>0.000000</td>\n",
       "      <td>0.000000</td>\n",
       "      <td>0.000000</td>\n",
       "      <td>0.000000</td>\n",
       "      <td>0.000000</td>\n",
       "      <td>0.000000</td>\n",
       "      <td>0.000000</td>\n",
       "      <td>0.000000</td>\n",
       "      <td>...</td>\n",
       "      <td>0.000000</td>\n",
       "      <td>0.000000</td>\n",
       "      <td>0.000000</td>\n",
       "      <td>0.000000</td>\n",
       "      <td>0.000000</td>\n",
       "      <td>0.000000</td>\n",
       "      <td>0.000000</td>\n",
       "      <td>0.000000</td>\n",
       "      <td>0.000000</td>\n",
       "      <td>0.000000</td>\n",
       "    </tr>\n",
       "    <tr>\n",
       "      <th>25%</th>\n",
       "      <td>0.000000</td>\n",
       "      <td>0.000000</td>\n",
       "      <td>865.000000</td>\n",
       "      <td>2078.250000</td>\n",
       "      <td>17.000000</td>\n",
       "      <td>15.000000</td>\n",
       "      <td>0.000000</td>\n",
       "      <td>0.000000</td>\n",
       "      <td>0.000000</td>\n",
       "      <td>0.000000</td>\n",
       "      <td>...</td>\n",
       "      <td>0.000000</td>\n",
       "      <td>0.000000</td>\n",
       "      <td>0.000000</td>\n",
       "      <td>0.000000</td>\n",
       "      <td>0.000000</td>\n",
       "      <td>0.000000</td>\n",
       "      <td>0.000000</td>\n",
       "      <td>0.000000</td>\n",
       "      <td>0.000000</td>\n",
       "      <td>4638.000000</td>\n",
       "    </tr>\n",
       "    <tr>\n",
       "      <th>50%</th>\n",
       "      <td>518.000000</td>\n",
       "      <td>0.000000</td>\n",
       "      <td>3059.000000</td>\n",
       "      <td>5122.000000</td>\n",
       "      <td>121.000000</td>\n",
       "      <td>125.000000</td>\n",
       "      <td>0.000000</td>\n",
       "      <td>0.000000</td>\n",
       "      <td>1.000000</td>\n",
       "      <td>0.000000</td>\n",
       "      <td>...</td>\n",
       "      <td>0.000000</td>\n",
       "      <td>0.000000</td>\n",
       "      <td>0.000000</td>\n",
       "      <td>0.000000</td>\n",
       "      <td>0.000000</td>\n",
       "      <td>0.000000</td>\n",
       "      <td>0.000000</td>\n",
       "      <td>0.000000</td>\n",
       "      <td>0.000000</td>\n",
       "      <td>12399.000000</td>\n",
       "    </tr>\n",
       "    <tr>\n",
       "      <th>75%</th>\n",
       "      <td>4272.000000</td>\n",
       "      <td>0.000000</td>\n",
       "      <td>7280.000000</td>\n",
       "      <td>10380.750000</td>\n",
       "      <td>354.000000</td>\n",
       "      <td>301.000000</td>\n",
       "      <td>0.000000</td>\n",
       "      <td>5.000000</td>\n",
       "      <td>8.000000</td>\n",
       "      <td>0.000000</td>\n",
       "      <td>...</td>\n",
       "      <td>0.000000</td>\n",
       "      <td>0.000000</td>\n",
       "      <td>0.000000</td>\n",
       "      <td>2.000000</td>\n",
       "      <td>4.000000</td>\n",
       "      <td>0.000000</td>\n",
       "      <td>0.000000</td>\n",
       "      <td>0.000000</td>\n",
       "      <td>0.000000</td>\n",
       "      <td>25453.000000</td>\n",
       "    </tr>\n",
       "    <tr>\n",
       "      <th>max</th>\n",
       "      <td>522188.000000</td>\n",
       "      <td>116681.000000</td>\n",
       "      <td>107224.000000</td>\n",
       "      <td>108058.000000</td>\n",
       "      <td>77929.000000</td>\n",
       "      <td>38907.000000</td>\n",
       "      <td>28083.000000</td>\n",
       "      <td>164.000000</td>\n",
       "      <td>269.000000</td>\n",
       "      <td>49.000000</td>\n",
       "      <td>...</td>\n",
       "      <td>64.000000</td>\n",
       "      <td>12.000000</td>\n",
       "      <td>12.000000</td>\n",
       "      <td>1017.000000</td>\n",
       "      <td>777.000000</td>\n",
       "      <td>71.000000</td>\n",
       "      <td>28.000000</td>\n",
       "      <td>17.000000</td>\n",
       "      <td>4.000000</td>\n",
       "      <td>541978.000000</td>\n",
       "    </tr>\n",
       "  </tbody>\n",
       "</table>\n",
       "<p>8 rows × 25 columns</p>\n",
       "</div>"
      ],
      "text/plain": [
       "              permit  permit_recheck        handgun       long_gun  \\\n",
       "count   12461.000000     1100.000000   12465.000000   12466.000000   \n",
       "mean     6413.629404     1165.956364    5940.881107    7810.847585   \n",
       "std     23752.338269     9224.200609    8618.584060    9309.846140   \n",
       "min         0.000000        0.000000       0.000000       0.000000   \n",
       "25%         0.000000        0.000000     865.000000    2078.250000   \n",
       "50%       518.000000        0.000000    3059.000000    5122.000000   \n",
       "75%      4272.000000        0.000000    7280.000000   10380.750000   \n",
       "max    522188.000000   116681.000000  107224.000000  108058.000000   \n",
       "\n",
       "              other      multiple         admin  prepawn_handgun  \\\n",
       "count   5500.000000  12485.000000  12462.000000     10542.000000   \n",
       "mean     360.471636    268.603364     58.898090         4.828021   \n",
       "std     1349.478273    783.185073    604.814818        10.907756   \n",
       "min        0.000000      0.000000      0.000000         0.000000   \n",
       "25%       17.000000     15.000000      0.000000         0.000000   \n",
       "50%      121.000000    125.000000      0.000000         0.000000   \n",
       "75%      354.000000    301.000000      0.000000         5.000000   \n",
       "max    77929.000000  38907.000000  28083.000000       164.000000   \n",
       "\n",
       "       prepawn_long_gun  prepawn_other  ...  returned_other  rentals_handgun  \\\n",
       "count      10540.000000    5115.000000  ...     1815.000000       990.000000   \n",
       "mean           7.834156       0.165591  ...        1.027548         0.076768   \n",
       "std           16.468028       1.057105  ...        4.386296         0.634503   \n",
       "min            0.000000       0.000000  ...        0.000000         0.000000   \n",
       "25%            0.000000       0.000000  ...        0.000000         0.000000   \n",
       "50%            1.000000       0.000000  ...        0.000000         0.000000   \n",
       "75%            8.000000       0.000000  ...        0.000000         0.000000   \n",
       "max          269.000000      49.000000  ...       64.000000        12.000000   \n",
       "\n",
       "       rentals_long_gun  private_sale_handgun  private_sale_long_gun  \\\n",
       "count        825.000000           2750.000000            2750.000000   \n",
       "mean           0.087273             14.936000              11.602909   \n",
       "std            0.671649             71.216021              54.253090   \n",
       "min            0.000000              0.000000               0.000000   \n",
       "25%            0.000000              0.000000               0.000000   \n",
       "50%            0.000000              0.000000               0.000000   \n",
       "75%            0.000000              2.000000               4.000000   \n",
       "max           12.000000           1017.000000             777.000000   \n",
       "\n",
       "       private_sale_other  return_to_seller_handgun  \\\n",
       "count         2750.000000               2475.000000   \n",
       "mean             1.030182                  0.402020   \n",
       "std              4.467843                  1.446568   \n",
       "min              0.000000                  0.000000   \n",
       "25%              0.000000                  0.000000   \n",
       "50%              0.000000                  0.000000   \n",
       "75%              0.000000                  0.000000   \n",
       "max             71.000000                 28.000000   \n",
       "\n",
       "       return_to_seller_long_gun  return_to_seller_other         totals  \n",
       "count                2750.000000             2255.000000   12485.000000  \n",
       "mean                    0.441818                0.105987   21595.725911  \n",
       "std                     1.528223                0.427363   32591.418387  \n",
       "min                     0.000000                0.000000       0.000000  \n",
       "25%                     0.000000                0.000000    4638.000000  \n",
       "50%                     0.000000                0.000000   12399.000000  \n",
       "75%                     0.000000                0.000000   25453.000000  \n",
       "max                    17.000000                4.000000  541978.000000  \n",
       "\n",
       "[8 rows x 25 columns]"
      ]
     },
     "execution_count": 6,
     "metadata": {},
     "output_type": "execute_result"
    }
   ],
   "source": [
    "gun.describe()"
   ]
  },
  {
   "cell_type": "markdown",
   "metadata": {},
   "source": [
    "#### There is a lot of missing data here.  Only 7 of 19 columns have 10K/12.4K or more records, those are the columns that the analysis will want to focus on.     \n",
    "\n",
    "#### Then display header:"
   ]
  },
  {
   "cell_type": "code",
   "execution_count": 7,
   "metadata": {
    "scrolled": false
   },
   "outputs": [
    {
     "data": {
      "text/html": [
       "<div>\n",
       "<style scoped>\n",
       "    .dataframe tbody tr th:only-of-type {\n",
       "        vertical-align: middle;\n",
       "    }\n",
       "\n",
       "    .dataframe tbody tr th {\n",
       "        vertical-align: top;\n",
       "    }\n",
       "\n",
       "    .dataframe thead th {\n",
       "        text-align: right;\n",
       "    }\n",
       "</style>\n",
       "<table border=\"1\" class=\"dataframe\">\n",
       "  <thead>\n",
       "    <tr style=\"text-align: right;\">\n",
       "      <th></th>\n",
       "      <th>month</th>\n",
       "      <th>state</th>\n",
       "      <th>permit</th>\n",
       "      <th>permit_recheck</th>\n",
       "      <th>handgun</th>\n",
       "      <th>long_gun</th>\n",
       "      <th>other</th>\n",
       "      <th>multiple</th>\n",
       "      <th>admin</th>\n",
       "      <th>prepawn_handgun</th>\n",
       "      <th>...</th>\n",
       "      <th>returned_other</th>\n",
       "      <th>rentals_handgun</th>\n",
       "      <th>rentals_long_gun</th>\n",
       "      <th>private_sale_handgun</th>\n",
       "      <th>private_sale_long_gun</th>\n",
       "      <th>private_sale_other</th>\n",
       "      <th>return_to_seller_handgun</th>\n",
       "      <th>return_to_seller_long_gun</th>\n",
       "      <th>return_to_seller_other</th>\n",
       "      <th>totals</th>\n",
       "    </tr>\n",
       "  </thead>\n",
       "  <tbody>\n",
       "    <tr>\n",
       "      <th>0</th>\n",
       "      <td>2017-09</td>\n",
       "      <td>Alabama</td>\n",
       "      <td>16717.0</td>\n",
       "      <td>0.0</td>\n",
       "      <td>5734.0</td>\n",
       "      <td>6320.0</td>\n",
       "      <td>221.0</td>\n",
       "      <td>317</td>\n",
       "      <td>0.0</td>\n",
       "      <td>15.0</td>\n",
       "      <td>...</td>\n",
       "      <td>0.0</td>\n",
       "      <td>0.0</td>\n",
       "      <td>0.0</td>\n",
       "      <td>9.0</td>\n",
       "      <td>16.0</td>\n",
       "      <td>3.0</td>\n",
       "      <td>0.0</td>\n",
       "      <td>0.0</td>\n",
       "      <td>3.0</td>\n",
       "      <td>32019</td>\n",
       "    </tr>\n",
       "    <tr>\n",
       "      <th>1</th>\n",
       "      <td>2017-09</td>\n",
       "      <td>Alaska</td>\n",
       "      <td>209.0</td>\n",
       "      <td>2.0</td>\n",
       "      <td>2320.0</td>\n",
       "      <td>2930.0</td>\n",
       "      <td>219.0</td>\n",
       "      <td>160</td>\n",
       "      <td>0.0</td>\n",
       "      <td>5.0</td>\n",
       "      <td>...</td>\n",
       "      <td>0.0</td>\n",
       "      <td>0.0</td>\n",
       "      <td>0.0</td>\n",
       "      <td>17.0</td>\n",
       "      <td>24.0</td>\n",
       "      <td>1.0</td>\n",
       "      <td>0.0</td>\n",
       "      <td>0.0</td>\n",
       "      <td>0.0</td>\n",
       "      <td>6303</td>\n",
       "    </tr>\n",
       "    <tr>\n",
       "      <th>2</th>\n",
       "      <td>2017-09</td>\n",
       "      <td>Arizona</td>\n",
       "      <td>5069.0</td>\n",
       "      <td>382.0</td>\n",
       "      <td>11063.0</td>\n",
       "      <td>7946.0</td>\n",
       "      <td>920.0</td>\n",
       "      <td>631</td>\n",
       "      <td>0.0</td>\n",
       "      <td>13.0</td>\n",
       "      <td>...</td>\n",
       "      <td>0.0</td>\n",
       "      <td>0.0</td>\n",
       "      <td>0.0</td>\n",
       "      <td>38.0</td>\n",
       "      <td>12.0</td>\n",
       "      <td>2.0</td>\n",
       "      <td>0.0</td>\n",
       "      <td>0.0</td>\n",
       "      <td>0.0</td>\n",
       "      <td>28394</td>\n",
       "    </tr>\n",
       "    <tr>\n",
       "      <th>3</th>\n",
       "      <td>2017-09</td>\n",
       "      <td>Arkansas</td>\n",
       "      <td>2935.0</td>\n",
       "      <td>632.0</td>\n",
       "      <td>4347.0</td>\n",
       "      <td>6063.0</td>\n",
       "      <td>165.0</td>\n",
       "      <td>366</td>\n",
       "      <td>51.0</td>\n",
       "      <td>12.0</td>\n",
       "      <td>...</td>\n",
       "      <td>0.0</td>\n",
       "      <td>0.0</td>\n",
       "      <td>0.0</td>\n",
       "      <td>13.0</td>\n",
       "      <td>23.0</td>\n",
       "      <td>0.0</td>\n",
       "      <td>0.0</td>\n",
       "      <td>2.0</td>\n",
       "      <td>1.0</td>\n",
       "      <td>17747</td>\n",
       "    </tr>\n",
       "    <tr>\n",
       "      <th>4</th>\n",
       "      <td>2017-09</td>\n",
       "      <td>California</td>\n",
       "      <td>57839.0</td>\n",
       "      <td>0.0</td>\n",
       "      <td>37165.0</td>\n",
       "      <td>24581.0</td>\n",
       "      <td>2984.0</td>\n",
       "      <td>0</td>\n",
       "      <td>0.0</td>\n",
       "      <td>0.0</td>\n",
       "      <td>...</td>\n",
       "      <td>0.0</td>\n",
       "      <td>0.0</td>\n",
       "      <td>0.0</td>\n",
       "      <td>0.0</td>\n",
       "      <td>0.0</td>\n",
       "      <td>0.0</td>\n",
       "      <td>0.0</td>\n",
       "      <td>0.0</td>\n",
       "      <td>0.0</td>\n",
       "      <td>123506</td>\n",
       "    </tr>\n",
       "  </tbody>\n",
       "</table>\n",
       "<p>5 rows × 27 columns</p>\n",
       "</div>"
      ],
      "text/plain": [
       "     month       state   permit  permit_recheck  handgun  long_gun   other  \\\n",
       "0  2017-09     Alabama  16717.0             0.0   5734.0    6320.0   221.0   \n",
       "1  2017-09      Alaska    209.0             2.0   2320.0    2930.0   219.0   \n",
       "2  2017-09     Arizona   5069.0           382.0  11063.0    7946.0   920.0   \n",
       "3  2017-09    Arkansas   2935.0           632.0   4347.0    6063.0   165.0   \n",
       "4  2017-09  California  57839.0             0.0  37165.0   24581.0  2984.0   \n",
       "\n",
       "   multiple  admin  prepawn_handgun  ...  returned_other  rentals_handgun  \\\n",
       "0       317    0.0             15.0  ...             0.0              0.0   \n",
       "1       160    0.0              5.0  ...             0.0              0.0   \n",
       "2       631    0.0             13.0  ...             0.0              0.0   \n",
       "3       366   51.0             12.0  ...             0.0              0.0   \n",
       "4         0    0.0              0.0  ...             0.0              0.0   \n",
       "\n",
       "   rentals_long_gun  private_sale_handgun  private_sale_long_gun  \\\n",
       "0               0.0                   9.0                   16.0   \n",
       "1               0.0                  17.0                   24.0   \n",
       "2               0.0                  38.0                   12.0   \n",
       "3               0.0                  13.0                   23.0   \n",
       "4               0.0                   0.0                    0.0   \n",
       "\n",
       "   private_sale_other  return_to_seller_handgun  return_to_seller_long_gun  \\\n",
       "0                 3.0                       0.0                        0.0   \n",
       "1                 1.0                       0.0                        0.0   \n",
       "2                 2.0                       0.0                        0.0   \n",
       "3                 0.0                       0.0                        2.0   \n",
       "4                 0.0                       0.0                        0.0   \n",
       "\n",
       "   return_to_seller_other  totals  \n",
       "0                     3.0   32019  \n",
       "1                     0.0    6303  \n",
       "2                     0.0   28394  \n",
       "3                     1.0   17747  \n",
       "4                     0.0  123506  \n",
       "\n",
       "[5 rows x 27 columns]"
      ]
     },
     "execution_count": 7,
     "metadata": {},
     "output_type": "execute_result"
    }
   ],
   "source": [
    "gun.head()"
   ]
  },
  {
   "cell_type": "markdown",
   "metadata": {},
   "source": [
    "\n",
    "### Data Cleaning "
   ]
  },
  {
   "cell_type": "markdown",
   "metadata": {},
   "source": [
    "#### Let's start by cleaning the gun data, as there were only a few columns there that we want to focus on.  We will take only the first 9 columns of data, then drop the permit_recheck and other columns, then view our new header.    "
   ]
  },
  {
   "cell_type": "code",
   "execution_count": 8,
   "metadata": {},
   "outputs": [],
   "source": [
    "gun = gun.iloc[:,0:9]"
   ]
  },
  {
   "cell_type": "code",
   "execution_count": 9,
   "metadata": {},
   "outputs": [
    {
     "name": "stdout",
     "output_type": "stream",
     "text": [
      "<class 'pandas.core.frame.DataFrame'>\n",
      "RangeIndex: 12485 entries, 0 to 12484\n",
      "Data columns (total 9 columns):\n",
      " #   Column          Non-Null Count  Dtype  \n",
      "---  ------          --------------  -----  \n",
      " 0   month           12485 non-null  object \n",
      " 1   state           12485 non-null  object \n",
      " 2   permit          12461 non-null  float64\n",
      " 3   permit_recheck  1100 non-null   float64\n",
      " 4   handgun         12465 non-null  float64\n",
      " 5   long_gun        12466 non-null  float64\n",
      " 6   other           5500 non-null   float64\n",
      " 7   multiple        12485 non-null  int64  \n",
      " 8   admin           12462 non-null  float64\n",
      "dtypes: float64(6), int64(1), object(2)\n",
      "memory usage: 878.0+ KB\n"
     ]
    }
   ],
   "source": [
    "gun.info()"
   ]
  },
  {
   "cell_type": "code",
   "execution_count": 10,
   "metadata": {},
   "outputs": [],
   "source": [
    "gun = gun.drop(columns=['permit_recheck','other'])"
   ]
  },
  {
   "cell_type": "code",
   "execution_count": 11,
   "metadata": {
    "scrolled": false
   },
   "outputs": [
    {
     "data": {
      "text/html": [
       "<div>\n",
       "<style scoped>\n",
       "    .dataframe tbody tr th:only-of-type {\n",
       "        vertical-align: middle;\n",
       "    }\n",
       "\n",
       "    .dataframe tbody tr th {\n",
       "        vertical-align: top;\n",
       "    }\n",
       "\n",
       "    .dataframe thead th {\n",
       "        text-align: right;\n",
       "    }\n",
       "</style>\n",
       "<table border=\"1\" class=\"dataframe\">\n",
       "  <thead>\n",
       "    <tr style=\"text-align: right;\">\n",
       "      <th></th>\n",
       "      <th>month</th>\n",
       "      <th>state</th>\n",
       "      <th>permit</th>\n",
       "      <th>handgun</th>\n",
       "      <th>long_gun</th>\n",
       "      <th>multiple</th>\n",
       "      <th>admin</th>\n",
       "    </tr>\n",
       "  </thead>\n",
       "  <tbody>\n",
       "    <tr>\n",
       "      <th>0</th>\n",
       "      <td>2017-09</td>\n",
       "      <td>Alabama</td>\n",
       "      <td>16717.0</td>\n",
       "      <td>5734.0</td>\n",
       "      <td>6320.0</td>\n",
       "      <td>317</td>\n",
       "      <td>0.0</td>\n",
       "    </tr>\n",
       "    <tr>\n",
       "      <th>1</th>\n",
       "      <td>2017-09</td>\n",
       "      <td>Alaska</td>\n",
       "      <td>209.0</td>\n",
       "      <td>2320.0</td>\n",
       "      <td>2930.0</td>\n",
       "      <td>160</td>\n",
       "      <td>0.0</td>\n",
       "    </tr>\n",
       "    <tr>\n",
       "      <th>2</th>\n",
       "      <td>2017-09</td>\n",
       "      <td>Arizona</td>\n",
       "      <td>5069.0</td>\n",
       "      <td>11063.0</td>\n",
       "      <td>7946.0</td>\n",
       "      <td>631</td>\n",
       "      <td>0.0</td>\n",
       "    </tr>\n",
       "    <tr>\n",
       "      <th>3</th>\n",
       "      <td>2017-09</td>\n",
       "      <td>Arkansas</td>\n",
       "      <td>2935.0</td>\n",
       "      <td>4347.0</td>\n",
       "      <td>6063.0</td>\n",
       "      <td>366</td>\n",
       "      <td>51.0</td>\n",
       "    </tr>\n",
       "    <tr>\n",
       "      <th>4</th>\n",
       "      <td>2017-09</td>\n",
       "      <td>California</td>\n",
       "      <td>57839.0</td>\n",
       "      <td>37165.0</td>\n",
       "      <td>24581.0</td>\n",
       "      <td>0</td>\n",
       "      <td>0.0</td>\n",
       "    </tr>\n",
       "  </tbody>\n",
       "</table>\n",
       "</div>"
      ],
      "text/plain": [
       "     month       state   permit  handgun  long_gun  multiple  admin\n",
       "0  2017-09     Alabama  16717.0   5734.0    6320.0       317    0.0\n",
       "1  2017-09      Alaska    209.0   2320.0    2930.0       160    0.0\n",
       "2  2017-09     Arizona   5069.0  11063.0    7946.0       631    0.0\n",
       "3  2017-09    Arkansas   2935.0   4347.0    6063.0       366   51.0\n",
       "4  2017-09  California  57839.0  37165.0   24581.0         0    0.0"
      ]
     },
     "execution_count": 11,
     "metadata": {},
     "output_type": "execute_result"
    }
   ],
   "source": [
    "gun.head()"
   ]
  },
  {
   "cell_type": "markdown",
   "metadata": {},
   "source": [
    "#### Now to take a closer look at what type of data is in the specific fields.  "
   ]
  },
  {
   "cell_type": "code",
   "execution_count": 12,
   "metadata": {},
   "outputs": [
    {
     "name": "stdout",
     "output_type": "stream",
     "text": [
      "<class 'pandas.core.frame.DataFrame'>\n",
      "RangeIndex: 12485 entries, 0 to 12484\n",
      "Data columns (total 7 columns):\n",
      " #   Column    Non-Null Count  Dtype  \n",
      "---  ------    --------------  -----  \n",
      " 0   month     12485 non-null  object \n",
      " 1   state     12485 non-null  object \n",
      " 2   permit    12461 non-null  float64\n",
      " 3   handgun   12465 non-null  float64\n",
      " 4   long_gun  12466 non-null  float64\n",
      " 5   multiple  12485 non-null  int64  \n",
      " 6   admin     12462 non-null  float64\n",
      "dtypes: float64(4), int64(1), object(2)\n",
      "memory usage: 682.9+ KB\n"
     ]
    }
   ],
   "source": [
    "gun.info()"
   ]
  },
  {
   "cell_type": "code",
   "execution_count": 13,
   "metadata": {},
   "outputs": [
    {
     "data": {
      "text/plain": [
       "str"
      ]
     },
     "execution_count": 13,
     "metadata": {},
     "output_type": "execute_result"
    }
   ],
   "source": [
    "type(gun['month'][1])"
   ]
  },
  {
   "cell_type": "markdown",
   "metadata": {},
   "source": [
    "#### Now print the cell to see the format of the string"
   ]
  },
  {
   "cell_type": "code",
   "execution_count": 14,
   "metadata": {},
   "outputs": [
    {
     "name": "stdout",
     "output_type": "stream",
     "text": [
      "2017-09\n"
     ]
    }
   ],
   "source": [
    "print(gun['month'][1])"
   ]
  },
  {
   "cell_type": "code",
   "execution_count": 15,
   "metadata": {
    "scrolled": true
   },
   "outputs": [
    {
     "data": {
      "text/plain": [
       "str"
      ]
     },
     "execution_count": 15,
     "metadata": {},
     "output_type": "execute_result"
    }
   ],
   "source": [
    "type(gun['state'][1])"
   ]
  },
  {
   "cell_type": "markdown",
   "metadata": {},
   "source": [
    "#### Here we can see that month and state are strings within objects, we will need to change our date formart.  Mostly all our other numerical data are floats.  First we need to fill in the missing values with '0', then we can change the floats to ints, as applications should be whole numbers.   "
   ]
  },
  {
   "cell_type": "code",
   "execution_count": 16,
   "metadata": {},
   "outputs": [],
   "source": [
    "gun = gun.fillna('0')"
   ]
  },
  {
   "cell_type": "code",
   "execution_count": 17,
   "metadata": {},
   "outputs": [],
   "source": [
    "col = ['permit','handgun','long_gun','admin']"
   ]
  },
  {
   "cell_type": "code",
   "execution_count": 18,
   "metadata": {},
   "outputs": [
    {
     "data": {
      "text/plain": [
       "0"
      ]
     },
     "execution_count": 18,
     "metadata": {},
     "output_type": "execute_result"
    }
   ],
   "source": [
    "gun.isnull().sum().sum()"
   ]
  },
  {
   "cell_type": "code",
   "execution_count": 19,
   "metadata": {},
   "outputs": [],
   "source": [
    "gun[col] = gun[col].applymap(np.int64)"
   ]
  },
  {
   "cell_type": "code",
   "execution_count": 20,
   "metadata": {
    "scrolled": true
   },
   "outputs": [
    {
     "name": "stdout",
     "output_type": "stream",
     "text": [
      "<class 'pandas.core.frame.DataFrame'>\n",
      "RangeIndex: 12485 entries, 0 to 12484\n",
      "Data columns (total 7 columns):\n",
      " #   Column    Non-Null Count  Dtype \n",
      "---  ------    --------------  ----- \n",
      " 0   month     12485 non-null  object\n",
      " 1   state     12485 non-null  object\n",
      " 2   permit    12485 non-null  int64 \n",
      " 3   handgun   12485 non-null  int64 \n",
      " 4   long_gun  12485 non-null  int64 \n",
      " 5   multiple  12485 non-null  int64 \n",
      " 6   admin     12485 non-null  int64 \n",
      "dtypes: int64(5), object(2)\n",
      "memory usage: 682.9+ KB\n"
     ]
    }
   ],
   "source": [
    "gun.info()"
   ]
  },
  {
   "cell_type": "markdown",
   "metadata": {},
   "source": [
    "#### Now we have 12485 values in each column, our first two columns are still objects containing strings, with the rest of our data as ints. "
   ]
  },
  {
   "cell_type": "markdown",
   "metadata": {},
   "source": [
    "#### Next I want to take the year data from our month column, split that to its own column, then replace our currernt date column 'month' and replace that with only the month from that column.  "
   ]
  },
  {
   "cell_type": "code",
   "execution_count": 21,
   "metadata": {},
   "outputs": [
    {
     "data": {
      "text/plain": [
       "array([2017, 2016, 2015, 2014, 2013, 2012, 2011, 2010, 2009, 2008, 2007,\n",
       "       2006, 2005, 2004, 2003, 2002, 2001, 2000, 1999, 1998])"
      ]
     },
     "execution_count": 21,
     "metadata": {},
     "output_type": "execute_result"
    }
   ],
   "source": [
    "gun['year']=gun['month'].apply(lambda x: x.split(\"-\")[0]).astype(int)\n",
    "gun['year'].unique()"
   ]
  },
  {
   "cell_type": "code",
   "execution_count": 22,
   "metadata": {},
   "outputs": [
    {
     "data": {
      "text/plain": [
       "array([ 9,  8,  7,  6,  5,  4,  3,  2,  1, 12, 11, 10])"
      ]
     },
     "execution_count": 22,
     "metadata": {},
     "output_type": "execute_result"
    }
   ],
   "source": [
    "gun['month'] = gun['month'].apply(lambda x: x.split(\"-\")[1]).astype(int)\n",
    "gun['month'].unique()"
   ]
  },
  {
   "cell_type": "code",
   "execution_count": 23,
   "metadata": {},
   "outputs": [
    {
     "data": {
      "text/html": [
       "<div>\n",
       "<style scoped>\n",
       "    .dataframe tbody tr th:only-of-type {\n",
       "        vertical-align: middle;\n",
       "    }\n",
       "\n",
       "    .dataframe tbody tr th {\n",
       "        vertical-align: top;\n",
       "    }\n",
       "\n",
       "    .dataframe thead th {\n",
       "        text-align: right;\n",
       "    }\n",
       "</style>\n",
       "<table border=\"1\" class=\"dataframe\">\n",
       "  <thead>\n",
       "    <tr style=\"text-align: right;\">\n",
       "      <th></th>\n",
       "      <th>month</th>\n",
       "      <th>state</th>\n",
       "      <th>permit</th>\n",
       "      <th>handgun</th>\n",
       "      <th>long_gun</th>\n",
       "      <th>multiple</th>\n",
       "      <th>admin</th>\n",
       "      <th>year</th>\n",
       "    </tr>\n",
       "  </thead>\n",
       "  <tbody>\n",
       "    <tr>\n",
       "      <th>0</th>\n",
       "      <td>9</td>\n",
       "      <td>Alabama</td>\n",
       "      <td>16717</td>\n",
       "      <td>5734</td>\n",
       "      <td>6320</td>\n",
       "      <td>317</td>\n",
       "      <td>0</td>\n",
       "      <td>2017</td>\n",
       "    </tr>\n",
       "    <tr>\n",
       "      <th>1</th>\n",
       "      <td>9</td>\n",
       "      <td>Alaska</td>\n",
       "      <td>209</td>\n",
       "      <td>2320</td>\n",
       "      <td>2930</td>\n",
       "      <td>160</td>\n",
       "      <td>0</td>\n",
       "      <td>2017</td>\n",
       "    </tr>\n",
       "    <tr>\n",
       "      <th>2</th>\n",
       "      <td>9</td>\n",
       "      <td>Arizona</td>\n",
       "      <td>5069</td>\n",
       "      <td>11063</td>\n",
       "      <td>7946</td>\n",
       "      <td>631</td>\n",
       "      <td>0</td>\n",
       "      <td>2017</td>\n",
       "    </tr>\n",
       "    <tr>\n",
       "      <th>3</th>\n",
       "      <td>9</td>\n",
       "      <td>Arkansas</td>\n",
       "      <td>2935</td>\n",
       "      <td>4347</td>\n",
       "      <td>6063</td>\n",
       "      <td>366</td>\n",
       "      <td>51</td>\n",
       "      <td>2017</td>\n",
       "    </tr>\n",
       "    <tr>\n",
       "      <th>4</th>\n",
       "      <td>9</td>\n",
       "      <td>California</td>\n",
       "      <td>57839</td>\n",
       "      <td>37165</td>\n",
       "      <td>24581</td>\n",
       "      <td>0</td>\n",
       "      <td>0</td>\n",
       "      <td>2017</td>\n",
       "    </tr>\n",
       "  </tbody>\n",
       "</table>\n",
       "</div>"
      ],
      "text/plain": [
       "   month       state  permit  handgun  long_gun  multiple  admin  year\n",
       "0      9     Alabama   16717     5734      6320       317      0  2017\n",
       "1      9      Alaska     209     2320      2930       160      0  2017\n",
       "2      9     Arizona    5069    11063      7946       631      0  2017\n",
       "3      9    Arkansas    2935     4347      6063       366     51  2017\n",
       "4      9  California   57839    37165     24581         0      0  2017"
      ]
     },
     "execution_count": 23,
     "metadata": {},
     "output_type": "execute_result"
    }
   ],
   "source": [
    "gun.head()"
   ]
  },
  {
   "cell_type": "code",
   "execution_count": 24,
   "metadata": {},
   "outputs": [
    {
     "name": "stdout",
     "output_type": "stream",
     "text": [
      "<class 'pandas.core.frame.DataFrame'>\n",
      "RangeIndex: 12485 entries, 0 to 12484\n",
      "Data columns (total 8 columns):\n",
      " #   Column    Non-Null Count  Dtype \n",
      "---  ------    --------------  ----- \n",
      " 0   month     12485 non-null  int32 \n",
      " 1   state     12485 non-null  object\n",
      " 2   permit    12485 non-null  int64 \n",
      " 3   handgun   12485 non-null  int64 \n",
      " 4   long_gun  12485 non-null  int64 \n",
      " 5   multiple  12485 non-null  int64 \n",
      " 6   admin     12485 non-null  int64 \n",
      " 7   year      12485 non-null  int32 \n",
      "dtypes: int32(2), int64(5), object(1)\n",
      "memory usage: 682.9+ KB\n"
     ]
    }
   ],
   "source": [
    "gun.info()"
   ]
  },
  {
   "cell_type": "markdown",
   "metadata": {},
   "source": [
    "#### Now that the gun data is in a more usable format, we can proceed to our census data.  "
   ]
  },
  {
   "cell_type": "markdown",
   "metadata": {},
   "source": [
    "#### FIrst I want to trim this data down to what I need to answer the questions I want to ask, so I want to bring back the overall census number for 2010, the estimate for 2016, and the racial makeup of the states from 2016.  "
   ]
  },
  {
   "cell_type": "code",
   "execution_count": 25,
   "metadata": {},
   "outputs": [],
   "source": [
    "census = census.iloc[[0,3,13,14,15,16,17,18,19]]"
   ]
  },
  {
   "cell_type": "markdown",
   "metadata": {},
   "source": [
    "#### Next drop the fact note column"
   ]
  },
  {
   "cell_type": "code",
   "execution_count": 26,
   "metadata": {},
   "outputs": [],
   "source": [
    "census = census.drop('Fact Note', axis =1)"
   ]
  },
  {
   "cell_type": "code",
   "execution_count": 27,
   "metadata": {},
   "outputs": [],
   "source": [
    "census = census.drop('Fact', axis =1)"
   ]
  },
  {
   "cell_type": "code",
   "execution_count": 28,
   "metadata": {
    "scrolled": true
   },
   "outputs": [
    {
     "data": {
      "text/html": [
       "<div>\n",
       "<style scoped>\n",
       "    .dataframe tbody tr th:only-of-type {\n",
       "        vertical-align: middle;\n",
       "    }\n",
       "\n",
       "    .dataframe tbody tr th {\n",
       "        vertical-align: top;\n",
       "    }\n",
       "\n",
       "    .dataframe thead th {\n",
       "        text-align: right;\n",
       "    }\n",
       "</style>\n",
       "<table border=\"1\" class=\"dataframe\">\n",
       "  <thead>\n",
       "    <tr style=\"text-align: right;\">\n",
       "      <th></th>\n",
       "      <th>Alabama</th>\n",
       "      <th>Alaska</th>\n",
       "      <th>Arizona</th>\n",
       "      <th>Arkansas</th>\n",
       "      <th>California</th>\n",
       "      <th>Colorado</th>\n",
       "      <th>Connecticut</th>\n",
       "      <th>Delaware</th>\n",
       "      <th>Florida</th>\n",
       "      <th>Georgia</th>\n",
       "      <th>...</th>\n",
       "      <th>South Dakota</th>\n",
       "      <th>Tennessee</th>\n",
       "      <th>Texas</th>\n",
       "      <th>Utah</th>\n",
       "      <th>Vermont</th>\n",
       "      <th>Virginia</th>\n",
       "      <th>Washington</th>\n",
       "      <th>West Virginia</th>\n",
       "      <th>Wisconsin</th>\n",
       "      <th>Wyoming</th>\n",
       "    </tr>\n",
       "  </thead>\n",
       "  <tbody>\n",
       "    <tr>\n",
       "      <th>0</th>\n",
       "      <td>4,863,300</td>\n",
       "      <td>741,894</td>\n",
       "      <td>6,931,071</td>\n",
       "      <td>2,988,248</td>\n",
       "      <td>39,250,017</td>\n",
       "      <td>5,540,545</td>\n",
       "      <td>3,576,452</td>\n",
       "      <td>952,065</td>\n",
       "      <td>20,612,439</td>\n",
       "      <td>10,310,371</td>\n",
       "      <td>...</td>\n",
       "      <td>865454</td>\n",
       "      <td>6651194</td>\n",
       "      <td>27,862,596</td>\n",
       "      <td>3,051,217</td>\n",
       "      <td>624,594</td>\n",
       "      <td>8,411,808</td>\n",
       "      <td>7,288,000</td>\n",
       "      <td>1,831,102</td>\n",
       "      <td>5,778,708</td>\n",
       "      <td>585,501</td>\n",
       "    </tr>\n",
       "    <tr>\n",
       "      <th>3</th>\n",
       "      <td>4,779,736</td>\n",
       "      <td>710,231</td>\n",
       "      <td>6,392,017</td>\n",
       "      <td>2,915,918</td>\n",
       "      <td>37,253,956</td>\n",
       "      <td>5,029,196</td>\n",
       "      <td>3,574,097</td>\n",
       "      <td>897,934</td>\n",
       "      <td>18,801,310</td>\n",
       "      <td>9,687,653</td>\n",
       "      <td>...</td>\n",
       "      <td>814180</td>\n",
       "      <td>6346105</td>\n",
       "      <td>25,145,561</td>\n",
       "      <td>2,763,885</td>\n",
       "      <td>625,741</td>\n",
       "      <td>8,001,024</td>\n",
       "      <td>6,724,540</td>\n",
       "      <td>1,852,994</td>\n",
       "      <td>5,686,986</td>\n",
       "      <td>563,626</td>\n",
       "    </tr>\n",
       "    <tr>\n",
       "      <th>13</th>\n",
       "      <td>26.80%</td>\n",
       "      <td>3.80%</td>\n",
       "      <td>4.90%</td>\n",
       "      <td>15.70%</td>\n",
       "      <td>6.50%</td>\n",
       "      <td>4.50%</td>\n",
       "      <td>11.80%</td>\n",
       "      <td>22.60%</td>\n",
       "      <td>16.80%</td>\n",
       "      <td>32.00%</td>\n",
       "      <td>...</td>\n",
       "      <td>0.02</td>\n",
       "      <td>0.171</td>\n",
       "      <td>12.60%</td>\n",
       "      <td>1.40%</td>\n",
       "      <td>1.30%</td>\n",
       "      <td>19.80%</td>\n",
       "      <td>4.10%</td>\n",
       "      <td>3.60%</td>\n",
       "      <td>6.60%</td>\n",
       "      <td>1.30%</td>\n",
       "    </tr>\n",
       "    <tr>\n",
       "      <th>14</th>\n",
       "      <td>0.70%</td>\n",
       "      <td>15.20%</td>\n",
       "      <td>5.40%</td>\n",
       "      <td>1.00%</td>\n",
       "      <td>1.70%</td>\n",
       "      <td>1.60%</td>\n",
       "      <td>0.50%</td>\n",
       "      <td>0.60%</td>\n",
       "      <td>0.50%</td>\n",
       "      <td>0.50%</td>\n",
       "      <td>...</td>\n",
       "      <td>0.09</td>\n",
       "      <td>0.004</td>\n",
       "      <td>1.00%</td>\n",
       "      <td>1.60%</td>\n",
       "      <td>0.40%</td>\n",
       "      <td>0.50%</td>\n",
       "      <td>1.90%</td>\n",
       "      <td>0.20%</td>\n",
       "      <td>1.10%</td>\n",
       "      <td>2.70%</td>\n",
       "    </tr>\n",
       "    <tr>\n",
       "      <th>15</th>\n",
       "      <td>1.40%</td>\n",
       "      <td>6.30%</td>\n",
       "      <td>3.40%</td>\n",
       "      <td>1.60%</td>\n",
       "      <td>14.80%</td>\n",
       "      <td>3.30%</td>\n",
       "      <td>4.70%</td>\n",
       "      <td>4.00%</td>\n",
       "      <td>2.90%</td>\n",
       "      <td>4.10%</td>\n",
       "      <td>...</td>\n",
       "      <td>0.015</td>\n",
       "      <td>0.018</td>\n",
       "      <td>4.80%</td>\n",
       "      <td>2.50%</td>\n",
       "      <td>1.80%</td>\n",
       "      <td>6.60%</td>\n",
       "      <td>8.60%</td>\n",
       "      <td>0.80%</td>\n",
       "      <td>2.80%</td>\n",
       "      <td>1.00%</td>\n",
       "    </tr>\n",
       "  </tbody>\n",
       "</table>\n",
       "<p>5 rows × 50 columns</p>\n",
       "</div>"
      ],
      "text/plain": [
       "      Alabama   Alaska    Arizona   Arkansas  California   Colorado  \\\n",
       "0   4,863,300  741,894  6,931,071  2,988,248  39,250,017  5,540,545   \n",
       "3   4,779,736  710,231  6,392,017  2,915,918  37,253,956  5,029,196   \n",
       "13     26.80%    3.80%      4.90%     15.70%       6.50%      4.50%   \n",
       "14      0.70%   15.20%      5.40%      1.00%       1.70%      1.60%   \n",
       "15      1.40%    6.30%      3.40%      1.60%      14.80%      3.30%   \n",
       "\n",
       "   Connecticut Delaware     Florida     Georgia  ... South Dakota Tennessee  \\\n",
       "0    3,576,452  952,065  20,612,439  10,310,371  ...       865454   6651194   \n",
       "3    3,574,097  897,934  18,801,310   9,687,653  ...       814180   6346105   \n",
       "13      11.80%   22.60%      16.80%      32.00%  ...         0.02     0.171   \n",
       "14       0.50%    0.60%       0.50%       0.50%  ...         0.09     0.004   \n",
       "15       4.70%    4.00%       2.90%       4.10%  ...        0.015     0.018   \n",
       "\n",
       "         Texas       Utah  Vermont   Virginia Washington West Virginia  \\\n",
       "0   27,862,596  3,051,217  624,594  8,411,808  7,288,000     1,831,102   \n",
       "3   25,145,561  2,763,885  625,741  8,001,024  6,724,540     1,852,994   \n",
       "13      12.60%      1.40%    1.30%     19.80%      4.10%         3.60%   \n",
       "14       1.00%      1.60%    0.40%      0.50%      1.90%         0.20%   \n",
       "15       4.80%      2.50%    1.80%      6.60%      8.60%         0.80%   \n",
       "\n",
       "    Wisconsin  Wyoming  \n",
       "0   5,778,708  585,501  \n",
       "3   5,686,986  563,626  \n",
       "13      6.60%    1.30%  \n",
       "14      1.10%    2.70%  \n",
       "15      2.80%    1.00%  \n",
       "\n",
       "[5 rows x 50 columns]"
      ]
     },
     "execution_count": 28,
     "metadata": {},
     "output_type": "execute_result"
    }
   ],
   "source": [
    "census.head()"
   ]
  },
  {
   "cell_type": "markdown",
   "metadata": {},
   "source": [
    "#### Next I want to modify this data so the states are in the first column rather than the first row.  "
   ]
  },
  {
   "cell_type": "code",
   "execution_count": 29,
   "metadata": {
    "scrolled": true
   },
   "outputs": [],
   "source": [
    "census = census.transpose()"
   ]
  },
  {
   "cell_type": "code",
   "execution_count": 30,
   "metadata": {
    "scrolled": false
   },
   "outputs": [
    {
     "data": {
      "text/html": [
       "<div>\n",
       "<style scoped>\n",
       "    .dataframe tbody tr th:only-of-type {\n",
       "        vertical-align: middle;\n",
       "    }\n",
       "\n",
       "    .dataframe tbody tr th {\n",
       "        vertical-align: top;\n",
       "    }\n",
       "\n",
       "    .dataframe thead th {\n",
       "        text-align: right;\n",
       "    }\n",
       "</style>\n",
       "<table border=\"1\" class=\"dataframe\">\n",
       "  <thead>\n",
       "    <tr style=\"text-align: right;\">\n",
       "      <th></th>\n",
       "      <th>0</th>\n",
       "      <th>3</th>\n",
       "      <th>13</th>\n",
       "      <th>14</th>\n",
       "      <th>15</th>\n",
       "      <th>16</th>\n",
       "      <th>17</th>\n",
       "      <th>18</th>\n",
       "      <th>19</th>\n",
       "    </tr>\n",
       "  </thead>\n",
       "  <tbody>\n",
       "    <tr>\n",
       "      <th>Alabama</th>\n",
       "      <td>4,863,300</td>\n",
       "      <td>4,779,736</td>\n",
       "      <td>26.80%</td>\n",
       "      <td>0.70%</td>\n",
       "      <td>1.40%</td>\n",
       "      <td>0.10%</td>\n",
       "      <td>1.60%</td>\n",
       "      <td>4.20%</td>\n",
       "      <td>65.80%</td>\n",
       "    </tr>\n",
       "    <tr>\n",
       "      <th>Alaska</th>\n",
       "      <td>741,894</td>\n",
       "      <td>710,231</td>\n",
       "      <td>3.80%</td>\n",
       "      <td>15.20%</td>\n",
       "      <td>6.30%</td>\n",
       "      <td>1.30%</td>\n",
       "      <td>7.30%</td>\n",
       "      <td>7.00%</td>\n",
       "      <td>61.20%</td>\n",
       "    </tr>\n",
       "    <tr>\n",
       "      <th>Arizona</th>\n",
       "      <td>6,931,071</td>\n",
       "      <td>6,392,017</td>\n",
       "      <td>4.90%</td>\n",
       "      <td>5.40%</td>\n",
       "      <td>3.40%</td>\n",
       "      <td>0.30%</td>\n",
       "      <td>2.80%</td>\n",
       "      <td>30.90%</td>\n",
       "      <td>55.50%</td>\n",
       "    </tr>\n",
       "    <tr>\n",
       "      <th>Arkansas</th>\n",
       "      <td>2,988,248</td>\n",
       "      <td>2,915,918</td>\n",
       "      <td>15.70%</td>\n",
       "      <td>1.00%</td>\n",
       "      <td>1.60%</td>\n",
       "      <td>0.30%</td>\n",
       "      <td>2.00%</td>\n",
       "      <td>7.30%</td>\n",
       "      <td>72.90%</td>\n",
       "    </tr>\n",
       "    <tr>\n",
       "      <th>California</th>\n",
       "      <td>39,250,017</td>\n",
       "      <td>37,253,956</td>\n",
       "      <td>6.50%</td>\n",
       "      <td>1.70%</td>\n",
       "      <td>14.80%</td>\n",
       "      <td>0.50%</td>\n",
       "      <td>3.80%</td>\n",
       "      <td>38.90%</td>\n",
       "      <td>37.70%</td>\n",
       "    </tr>\n",
       "  </tbody>\n",
       "</table>\n",
       "</div>"
      ],
      "text/plain": [
       "                    0           3       13      14      15     16     17  \\\n",
       "Alabama      4,863,300   4,779,736  26.80%   0.70%   1.40%  0.10%  1.60%   \n",
       "Alaska         741,894     710,231   3.80%  15.20%   6.30%  1.30%  7.30%   \n",
       "Arizona      6,931,071   6,392,017   4.90%   5.40%   3.40%  0.30%  2.80%   \n",
       "Arkansas     2,988,248   2,915,918  15.70%   1.00%   1.60%  0.30%  2.00%   \n",
       "California  39,250,017  37,253,956   6.50%   1.70%  14.80%  0.50%  3.80%   \n",
       "\n",
       "                18      19  \n",
       "Alabama      4.20%  65.80%  \n",
       "Alaska       7.00%  61.20%  \n",
       "Arizona     30.90%  55.50%  \n",
       "Arkansas     7.30%  72.90%  \n",
       "California  38.90%  37.70%  "
      ]
     },
     "execution_count": 30,
     "metadata": {},
     "output_type": "execute_result"
    }
   ],
   "source": [
    "census.head()"
   ]
  },
  {
   "cell_type": "markdown",
   "metadata": {},
   "source": [
    "#### Then I want to modify the column names, and remove the current column descriptor. "
   ]
  },
  {
   "cell_type": "code",
   "execution_count": 31,
   "metadata": {},
   "outputs": [],
   "source": [
    "census = census.iloc[0:]"
   ]
  },
  {
   "cell_type": "code",
   "execution_count": 32,
   "metadata": {},
   "outputs": [],
   "source": [
    "census.columns = ['Pop. Est 2016','Pop. Census 2010','% Black','% Native Americans','% Asian','% Hawaiian','% Two or more','% Latino','% White']"
   ]
  },
  {
   "cell_type": "code",
   "execution_count": null,
   "metadata": {},
   "outputs": [],
   "source": []
  },
  {
   "cell_type": "code",
   "execution_count": 33,
   "metadata": {
    "scrolled": true
   },
   "outputs": [
    {
     "data": {
      "text/html": [
       "<div>\n",
       "<style scoped>\n",
       "    .dataframe tbody tr th:only-of-type {\n",
       "        vertical-align: middle;\n",
       "    }\n",
       "\n",
       "    .dataframe tbody tr th {\n",
       "        vertical-align: top;\n",
       "    }\n",
       "\n",
       "    .dataframe thead th {\n",
       "        text-align: right;\n",
       "    }\n",
       "</style>\n",
       "<table border=\"1\" class=\"dataframe\">\n",
       "  <thead>\n",
       "    <tr style=\"text-align: right;\">\n",
       "      <th></th>\n",
       "      <th>Pop. Est 2016</th>\n",
       "      <th>Pop. Census 2010</th>\n",
       "      <th>% Black</th>\n",
       "      <th>% Native Americans</th>\n",
       "      <th>% Asian</th>\n",
       "      <th>% Hawaiian</th>\n",
       "      <th>% Two or more</th>\n",
       "      <th>% Latino</th>\n",
       "      <th>% White</th>\n",
       "    </tr>\n",
       "  </thead>\n",
       "  <tbody>\n",
       "    <tr>\n",
       "      <th>Alabama</th>\n",
       "      <td>4,863,300</td>\n",
       "      <td>4,779,736</td>\n",
       "      <td>26.80%</td>\n",
       "      <td>0.70%</td>\n",
       "      <td>1.40%</td>\n",
       "      <td>0.10%</td>\n",
       "      <td>1.60%</td>\n",
       "      <td>4.20%</td>\n",
       "      <td>65.80%</td>\n",
       "    </tr>\n",
       "    <tr>\n",
       "      <th>Alaska</th>\n",
       "      <td>741,894</td>\n",
       "      <td>710,231</td>\n",
       "      <td>3.80%</td>\n",
       "      <td>15.20%</td>\n",
       "      <td>6.30%</td>\n",
       "      <td>1.30%</td>\n",
       "      <td>7.30%</td>\n",
       "      <td>7.00%</td>\n",
       "      <td>61.20%</td>\n",
       "    </tr>\n",
       "    <tr>\n",
       "      <th>Arizona</th>\n",
       "      <td>6,931,071</td>\n",
       "      <td>6,392,017</td>\n",
       "      <td>4.90%</td>\n",
       "      <td>5.40%</td>\n",
       "      <td>3.40%</td>\n",
       "      <td>0.30%</td>\n",
       "      <td>2.80%</td>\n",
       "      <td>30.90%</td>\n",
       "      <td>55.50%</td>\n",
       "    </tr>\n",
       "    <tr>\n",
       "      <th>Arkansas</th>\n",
       "      <td>2,988,248</td>\n",
       "      <td>2,915,918</td>\n",
       "      <td>15.70%</td>\n",
       "      <td>1.00%</td>\n",
       "      <td>1.60%</td>\n",
       "      <td>0.30%</td>\n",
       "      <td>2.00%</td>\n",
       "      <td>7.30%</td>\n",
       "      <td>72.90%</td>\n",
       "    </tr>\n",
       "    <tr>\n",
       "      <th>California</th>\n",
       "      <td>39,250,017</td>\n",
       "      <td>37,253,956</td>\n",
       "      <td>6.50%</td>\n",
       "      <td>1.70%</td>\n",
       "      <td>14.80%</td>\n",
       "      <td>0.50%</td>\n",
       "      <td>3.80%</td>\n",
       "      <td>38.90%</td>\n",
       "      <td>37.70%</td>\n",
       "    </tr>\n",
       "  </tbody>\n",
       "</table>\n",
       "</div>"
      ],
      "text/plain": [
       "           Pop. Est 2016 Pop. Census 2010 % Black % Native Americans % Asian  \\\n",
       "Alabama        4,863,300        4,779,736  26.80%              0.70%   1.40%   \n",
       "Alaska           741,894          710,231   3.80%             15.20%   6.30%   \n",
       "Arizona        6,931,071        6,392,017   4.90%              5.40%   3.40%   \n",
       "Arkansas       2,988,248        2,915,918  15.70%              1.00%   1.60%   \n",
       "California    39,250,017       37,253,956   6.50%              1.70%  14.80%   \n",
       "\n",
       "           % Hawaiian % Two or more % Latino % White  \n",
       "Alabama         0.10%         1.60%    4.20%  65.80%  \n",
       "Alaska          1.30%         7.30%    7.00%  61.20%  \n",
       "Arizona         0.30%         2.80%   30.90%  55.50%  \n",
       "Arkansas        0.30%         2.00%    7.30%  72.90%  \n",
       "California      0.50%         3.80%   38.90%  37.70%  "
      ]
     },
     "execution_count": 33,
     "metadata": {},
     "output_type": "execute_result"
    }
   ],
   "source": [
    "census.head()"
   ]
  },
  {
   "cell_type": "markdown",
   "metadata": {},
   "source": [
    "#### Now we can look to see what format our data is in, and if there are any modifications needed now. "
   ]
  },
  {
   "cell_type": "code",
   "execution_count": 34,
   "metadata": {},
   "outputs": [
    {
     "name": "stdout",
     "output_type": "stream",
     "text": [
      "<class 'pandas.core.frame.DataFrame'>\n",
      "Index: 50 entries, Alabama to Wyoming\n",
      "Data columns (total 9 columns):\n",
      " #   Column              Non-Null Count  Dtype \n",
      "---  ------              --------------  ----- \n",
      " 0   Pop. Est 2016       50 non-null     object\n",
      " 1   Pop. Census 2010    50 non-null     object\n",
      " 2   % Black             50 non-null     object\n",
      " 3   % Native Americans  50 non-null     object\n",
      " 4   % Asian             50 non-null     object\n",
      " 5   % Hawaiian          50 non-null     object\n",
      " 6   % Two or more       50 non-null     object\n",
      " 7   % Latino            50 non-null     object\n",
      " 8   % White             50 non-null     object\n",
      "dtypes: object(9)\n",
      "memory usage: 3.9+ KB\n"
     ]
    }
   ],
   "source": [
    "census.info()"
   ]
  },
  {
   "cell_type": "code",
   "execution_count": 35,
   "metadata": {},
   "outputs": [
    {
     "name": "stdout",
     "output_type": "stream",
     "text": [
      "741,894\n"
     ]
    }
   ],
   "source": [
    "print(census['Pop. Est 2016'][1])"
   ]
  },
  {
   "cell_type": "code",
   "execution_count": 36,
   "metadata": {},
   "outputs": [
    {
     "name": "stdout",
     "output_type": "stream",
     "text": [
      "24.90%\n"
     ]
    }
   ],
   "source": [
    "print(census['% Latino'][8])"
   ]
  },
  {
   "cell_type": "markdown",
   "metadata": {},
   "source": [
    "#### There are commas, and % signs in our data that need to be removed. "
   ]
  },
  {
   "cell_type": "code",
   "execution_count": 37,
   "metadata": {},
   "outputs": [],
   "source": [
    "census = census.replace({',':''}, regex=True)\n",
    "census = census.replace({'%':''}, regex=True)"
   ]
  },
  {
   "cell_type": "markdown",
   "metadata": {},
   "source": [
    "#### Now we can change our population columns to ints as people are measured in whole numbers in this instance. "
   ]
  },
  {
   "cell_type": "code",
   "execution_count": 38,
   "metadata": {},
   "outputs": [],
   "source": [
    "census['Pop. Est 2016'] = census['Pop. Est 2016'].astype(int)"
   ]
  },
  {
   "cell_type": "code",
   "execution_count": 39,
   "metadata": {},
   "outputs": [],
   "source": [
    "census['Pop. Census 2010'] = census['Pop. Census 2010'].astype(int)"
   ]
  },
  {
   "cell_type": "markdown",
   "metadata": {},
   "source": [
    "#### Now to take a look at the data in our other objects. It looks like a float, but is in string form.  "
   ]
  },
  {
   "cell_type": "code",
   "execution_count": 40,
   "metadata": {},
   "outputs": [
    {
     "name": "stdout",
     "output_type": "stream",
     "text": [
      "6.30\n"
     ]
    }
   ],
   "source": [
    "print(census['% Asian'][1])"
   ]
  },
  {
   "cell_type": "code",
   "execution_count": 41,
   "metadata": {
    "scrolled": true
   },
   "outputs": [
    {
     "data": {
      "text/plain": [
       "str"
      ]
     },
     "execution_count": 41,
     "metadata": {},
     "output_type": "execute_result"
    }
   ],
   "source": [
    "type(census['% Asian'][1])"
   ]
  },
  {
   "cell_type": "markdown",
   "metadata": {},
   "source": [
    "#### Now to transform the remaining colums to ints, ensuring any non int values are dealt with.  "
   ]
  },
  {
   "cell_type": "code",
   "execution_count": 42,
   "metadata": {},
   "outputs": [],
   "source": [
    "cols = census.columns[census.dtypes.eq('object')]"
   ]
  },
  {
   "cell_type": "code",
   "execution_count": 43,
   "metadata": {},
   "outputs": [],
   "source": [
    "census[cols] = census[cols].apply(pd.to_numeric, errors='coerce')"
   ]
  },
  {
   "cell_type": "code",
   "execution_count": null,
   "metadata": {
    "scrolled": true
   },
   "outputs": [],
   "source": []
  },
  {
   "cell_type": "code",
   "execution_count": 44,
   "metadata": {},
   "outputs": [
    {
     "data": {
      "text/plain": [
       "Index(['Alabama', 'Alaska', 'Arizona', 'Arkansas', 'California', 'Colorado',\n",
       "       'Connecticut', 'Delaware', 'Florida', 'Georgia', 'Hawaii', 'Idaho',\n",
       "       'Illinois', 'Indiana', 'Iowa', 'Kansas', 'Kentucky', 'Louisiana',\n",
       "       'Maine', 'Maryland', 'Massachusetts', 'Michigan', 'Minnesota',\n",
       "       'Mississippi', 'Missouri', 'Montana', 'Nebraska', 'Nevada',\n",
       "       'New Hampshire', 'New Jersey', 'New Mexico', 'New York',\n",
       "       'North Carolina', 'North Dakota', 'Ohio', 'Oklahoma', 'Oregon',\n",
       "       'Pennsylvania', 'Rhode Island', 'South Carolina', 'South Dakota',\n",
       "       'Tennessee', 'Texas', 'Utah', 'Vermont', 'Virginia', 'Washington',\n",
       "       'West Virginia', 'Wisconsin', 'Wyoming'],\n",
       "      dtype='object')"
      ]
     },
     "execution_count": 44,
     "metadata": {},
     "output_type": "execute_result"
    }
   ],
   "source": [
    "census.index"
   ]
  },
  {
   "cell_type": "code",
   "execution_count": 45,
   "metadata": {},
   "outputs": [
    {
     "name": "stdout",
     "output_type": "stream",
     "text": [
      "<class 'pandas.core.frame.DataFrame'>\n",
      "Index: 50 entries, Alabama to Wyoming\n",
      "Data columns (total 9 columns):\n",
      " #   Column              Non-Null Count  Dtype  \n",
      "---  ------              --------------  -----  \n",
      " 0   Pop. Est 2016       50 non-null     int32  \n",
      " 1   Pop. Census 2010    50 non-null     int32  \n",
      " 2   % Black             50 non-null     float64\n",
      " 3   % Native Americans  50 non-null     float64\n",
      " 4   % Asian             50 non-null     float64\n",
      " 5   % Hawaiian          46 non-null     float64\n",
      " 6   % Two or more       50 non-null     float64\n",
      " 7   % Latino            50 non-null     float64\n",
      " 8   % White             50 non-null     float64\n",
      "dtypes: float64(7), int32(2)\n",
      "memory usage: 6.0+ KB\n"
     ]
    }
   ],
   "source": [
    "census.info()"
   ]
  },
  {
   "cell_type": "code",
   "execution_count": 46,
   "metadata": {},
   "outputs": [
    {
     "data": {
      "text/html": [
       "<div>\n",
       "<style scoped>\n",
       "    .dataframe tbody tr th:only-of-type {\n",
       "        vertical-align: middle;\n",
       "    }\n",
       "\n",
       "    .dataframe tbody tr th {\n",
       "        vertical-align: top;\n",
       "    }\n",
       "\n",
       "    .dataframe thead th {\n",
       "        text-align: right;\n",
       "    }\n",
       "</style>\n",
       "<table border=\"1\" class=\"dataframe\">\n",
       "  <thead>\n",
       "    <tr style=\"text-align: right;\">\n",
       "      <th></th>\n",
       "      <th>Pop. Est 2016</th>\n",
       "      <th>Pop. Census 2010</th>\n",
       "      <th>% Black</th>\n",
       "      <th>% Native Americans</th>\n",
       "      <th>% Asian</th>\n",
       "      <th>% Hawaiian</th>\n",
       "      <th>% Two or more</th>\n",
       "      <th>% Latino</th>\n",
       "      <th>% White</th>\n",
       "    </tr>\n",
       "  </thead>\n",
       "  <tbody>\n",
       "    <tr>\n",
       "      <th>Alabama</th>\n",
       "      <td>4863300</td>\n",
       "      <td>4779736</td>\n",
       "      <td>26.8</td>\n",
       "      <td>0.7</td>\n",
       "      <td>1.4</td>\n",
       "      <td>0.1</td>\n",
       "      <td>1.6</td>\n",
       "      <td>4.2</td>\n",
       "      <td>65.8</td>\n",
       "    </tr>\n",
       "    <tr>\n",
       "      <th>Alaska</th>\n",
       "      <td>741894</td>\n",
       "      <td>710231</td>\n",
       "      <td>3.8</td>\n",
       "      <td>15.2</td>\n",
       "      <td>6.3</td>\n",
       "      <td>1.3</td>\n",
       "      <td>7.3</td>\n",
       "      <td>7.0</td>\n",
       "      <td>61.2</td>\n",
       "    </tr>\n",
       "    <tr>\n",
       "      <th>Arizona</th>\n",
       "      <td>6931071</td>\n",
       "      <td>6392017</td>\n",
       "      <td>4.9</td>\n",
       "      <td>5.4</td>\n",
       "      <td>3.4</td>\n",
       "      <td>0.3</td>\n",
       "      <td>2.8</td>\n",
       "      <td>30.9</td>\n",
       "      <td>55.5</td>\n",
       "    </tr>\n",
       "    <tr>\n",
       "      <th>Arkansas</th>\n",
       "      <td>2988248</td>\n",
       "      <td>2915918</td>\n",
       "      <td>15.7</td>\n",
       "      <td>1.0</td>\n",
       "      <td>1.6</td>\n",
       "      <td>0.3</td>\n",
       "      <td>2.0</td>\n",
       "      <td>7.3</td>\n",
       "      <td>72.9</td>\n",
       "    </tr>\n",
       "    <tr>\n",
       "      <th>California</th>\n",
       "      <td>39250017</td>\n",
       "      <td>37253956</td>\n",
       "      <td>6.5</td>\n",
       "      <td>1.7</td>\n",
       "      <td>14.8</td>\n",
       "      <td>0.5</td>\n",
       "      <td>3.8</td>\n",
       "      <td>38.9</td>\n",
       "      <td>37.7</td>\n",
       "    </tr>\n",
       "  </tbody>\n",
       "</table>\n",
       "</div>"
      ],
      "text/plain": [
       "            Pop. Est 2016  Pop. Census 2010  % Black  % Native Americans  \\\n",
       "Alabama           4863300           4779736     26.8                 0.7   \n",
       "Alaska             741894            710231      3.8                15.2   \n",
       "Arizona           6931071           6392017      4.9                 5.4   \n",
       "Arkansas          2988248           2915918     15.7                 1.0   \n",
       "California       39250017          37253956      6.5                 1.7   \n",
       "\n",
       "            % Asian  % Hawaiian  % Two or more  % Latino  % White  \n",
       "Alabama         1.4         0.1            1.6       4.2     65.8  \n",
       "Alaska          6.3         1.3            7.3       7.0     61.2  \n",
       "Arizona         3.4         0.3            2.8      30.9     55.5  \n",
       "Arkansas        1.6         0.3            2.0       7.3     72.9  \n",
       "California     14.8         0.5            3.8      38.9     37.7  "
      ]
     },
     "execution_count": 46,
     "metadata": {},
     "output_type": "execute_result"
    }
   ],
   "source": [
    "census.head()"
   ]
  },
  {
   "cell_type": "markdown",
   "metadata": {},
   "source": [
    "#### Now this looks good as well, we can dive into the analysis.  "
   ]
  },
  {
   "cell_type": "markdown",
   "metadata": {},
   "source": [
    "<a id='eda'></a>\n",
    "## Exploratory Data Analysis\n",
    "\n",
    "### What states have the largest increase in gun registrations between 2013 and 2017?"
   ]
  },
  {
   "cell_type": "markdown",
   "metadata": {},
   "source": [
    "###### The first step here is to filter out the data that I need and create a new dataframe. "
   ]
  },
  {
   "cell_type": "code",
   "execution_count": 47,
   "metadata": {},
   "outputs": [],
   "source": [
    "newgun = gun.filter(['state','permit','month','year'])"
   ]
  },
  {
   "cell_type": "markdown",
   "metadata": {},
   "source": [
    "#### Now I want to group the data by state and year to be able to pull out what I'll need to do my compare.  "
   ]
  },
  {
   "cell_type": "code",
   "execution_count": 48,
   "metadata": {},
   "outputs": [],
   "source": [
    "newgroup=newgun.groupby(['state','year'])['permit'].sum().reset_index().copy()"
   ]
  },
  {
   "cell_type": "code",
   "execution_count": 49,
   "metadata": {},
   "outputs": [
    {
     "name": "stdout",
     "output_type": "stream",
     "text": [
      "        state  year  permit\n",
      "0     Alabama  1998       0\n",
      "1     Alabama  1999       0\n",
      "2     Alabama  2000      12\n",
      "3     Alabama  2001       0\n",
      "4     Alabama  2002       0\n",
      "...       ...   ...     ...\n",
      "1095  Wyoming  2013    7001\n",
      "1096  Wyoming  2014    7046\n",
      "1097  Wyoming  2015    6674\n",
      "1098  Wyoming  2016    7938\n",
      "1099  Wyoming  2017    3447\n",
      "\n",
      "[1100 rows x 3 columns]\n"
     ]
    }
   ],
   "source": [
    "print(newgroup)"
   ]
  },
  {
   "cell_type": "markdown",
   "metadata": {},
   "source": [
    "#### Now take out only 2013 and 2017 data.  "
   ]
  },
  {
   "cell_type": "code",
   "execution_count": 50,
   "metadata": {},
   "outputs": [],
   "source": [
    "gun2013 = newgroup[newgroup['year'] == 2013].reset_index()"
   ]
  },
  {
   "cell_type": "code",
   "execution_count": 51,
   "metadata": {},
   "outputs": [
    {
     "data": {
      "text/html": [
       "<div>\n",
       "<style scoped>\n",
       "    .dataframe tbody tr th:only-of-type {\n",
       "        vertical-align: middle;\n",
       "    }\n",
       "\n",
       "    .dataframe tbody tr th {\n",
       "        vertical-align: top;\n",
       "    }\n",
       "\n",
       "    .dataframe thead th {\n",
       "        text-align: right;\n",
       "    }\n",
       "</style>\n",
       "<table border=\"1\" class=\"dataframe\">\n",
       "  <thead>\n",
       "    <tr style=\"text-align: right;\">\n",
       "      <th></th>\n",
       "      <th>state</th>\n",
       "      <th>year</th>\n",
       "      <th>permit</th>\n",
       "    </tr>\n",
       "  </thead>\n",
       "  <tbody>\n",
       "    <tr>\n",
       "      <th>0</th>\n",
       "      <td>Alabama</td>\n",
       "      <td>2013</td>\n",
       "      <td>100231</td>\n",
       "    </tr>\n",
       "    <tr>\n",
       "      <th>1</th>\n",
       "      <td>Alaska</td>\n",
       "      <td>2013</td>\n",
       "      <td>2569</td>\n",
       "    </tr>\n",
       "    <tr>\n",
       "      <th>2</th>\n",
       "      <td>Arizona</td>\n",
       "      <td>2013</td>\n",
       "      <td>76048</td>\n",
       "    </tr>\n",
       "    <tr>\n",
       "      <th>3</th>\n",
       "      <td>Arkansas</td>\n",
       "      <td>2013</td>\n",
       "      <td>66434</td>\n",
       "    </tr>\n",
       "    <tr>\n",
       "      <th>4</th>\n",
       "      <td>California</td>\n",
       "      <td>2013</td>\n",
       "      <td>423953</td>\n",
       "    </tr>\n",
       "  </tbody>\n",
       "</table>\n",
       "</div>"
      ],
      "text/plain": [
       "        state  year  permit\n",
       "0     Alabama  2013  100231\n",
       "1      Alaska  2013    2569\n",
       "2     Arizona  2013   76048\n",
       "3    Arkansas  2013   66434\n",
       "4  California  2013  423953"
      ]
     },
     "execution_count": 51,
     "metadata": {},
     "output_type": "execute_result"
    }
   ],
   "source": [
    "gun2013 = gun2013.drop('index', axis =1)\n",
    "gun2013.head()"
   ]
  },
  {
   "cell_type": "code",
   "execution_count": 52,
   "metadata": {},
   "outputs": [],
   "source": [
    "gun2017 = newgroup[newgroup['year'] == 2017].reset_index()"
   ]
  },
  {
   "cell_type": "code",
   "execution_count": 53,
   "metadata": {
    "scrolled": true
   },
   "outputs": [
    {
     "data": {
      "text/html": [
       "<div>\n",
       "<style scoped>\n",
       "    .dataframe tbody tr th:only-of-type {\n",
       "        vertical-align: middle;\n",
       "    }\n",
       "\n",
       "    .dataframe tbody tr th {\n",
       "        vertical-align: top;\n",
       "    }\n",
       "\n",
       "    .dataframe thead th {\n",
       "        text-align: right;\n",
       "    }\n",
       "</style>\n",
       "<table border=\"1\" class=\"dataframe\">\n",
       "  <thead>\n",
       "    <tr style=\"text-align: right;\">\n",
       "      <th></th>\n",
       "      <th>state</th>\n",
       "      <th>year</th>\n",
       "      <th>permit</th>\n",
       "    </tr>\n",
       "  </thead>\n",
       "  <tbody>\n",
       "    <tr>\n",
       "      <th>0</th>\n",
       "      <td>Alabama</td>\n",
       "      <td>2017</td>\n",
       "      <td>187155</td>\n",
       "    </tr>\n",
       "    <tr>\n",
       "      <th>1</th>\n",
       "      <td>Alaska</td>\n",
       "      <td>2017</td>\n",
       "      <td>2140</td>\n",
       "    </tr>\n",
       "    <tr>\n",
       "      <th>2</th>\n",
       "      <td>Arizona</td>\n",
       "      <td>2017</td>\n",
       "      <td>63537</td>\n",
       "    </tr>\n",
       "    <tr>\n",
       "      <th>3</th>\n",
       "      <td>Arkansas</td>\n",
       "      <td>2017</td>\n",
       "      <td>29647</td>\n",
       "    </tr>\n",
       "    <tr>\n",
       "      <th>4</th>\n",
       "      <td>California</td>\n",
       "      <td>2017</td>\n",
       "      <td>531810</td>\n",
       "    </tr>\n",
       "  </tbody>\n",
       "</table>\n",
       "</div>"
      ],
      "text/plain": [
       "        state  year  permit\n",
       "0     Alabama  2017  187155\n",
       "1      Alaska  2017    2140\n",
       "2     Arizona  2017   63537\n",
       "3    Arkansas  2017   29647\n",
       "4  California  2017  531810"
      ]
     },
     "execution_count": 53,
     "metadata": {},
     "output_type": "execute_result"
    }
   ],
   "source": [
    "gun2017 = gun2017.drop('index', axis =1)\n",
    "gun2017.head()"
   ]
  },
  {
   "cell_type": "markdown",
   "metadata": {},
   "source": [
    "#### Take the difference between 2013 and 2017, then display as ints.  "
   ]
  },
  {
   "cell_type": "code",
   "execution_count": 54,
   "metadata": {},
   "outputs": [],
   "source": [
    "gundif = (gun2017['permit'] - gun2013['permit']) "
   ]
  },
  {
   "cell_type": "code",
   "execution_count": 55,
   "metadata": {
    "scrolled": true
   },
   "outputs": [
    {
     "data": {
      "text/plain": [
       "0       86924\n",
       "1        -429\n",
       "2      -12511\n",
       "3      -36787\n",
       "4      107857\n",
       "5      -40315\n",
       "6     -100814\n",
       "7        3176\n",
       "8         156\n",
       "9       10582\n",
       "10     -27319\n",
       "11          0\n",
       "12      -8219\n",
       "13      14999\n",
       "14    -721306\n",
       "15     122066\n",
       "16     -34954\n",
       "17     -12524\n",
       "18    1960621\n",
       "19      23536\n",
       "20       6494\n",
       "21          0\n",
       "22      18934\n",
       "23     -70119\n",
       "24     -26425\n",
       "25     115825\n",
       "26       7525\n",
       "27     -54882\n",
       "28      -2931\n",
       "29     -23725\n",
       "30      -4975\n",
       "31     -23708\n",
       "32          0\n",
       "33      -1608\n",
       "34      -2189\n",
       "35     -73658\n",
       "36      -3197\n",
       "37     109493\n",
       "38          0\n",
       "39      24808\n",
       "40     -41866\n",
       "41          0\n",
       "42          0\n",
       "43      20802\n",
       "44      11329\n",
       "45      82184\n",
       "46     -48153\n",
       "47     -85855\n",
       "48          0\n",
       "49       -218\n",
       "50       9107\n",
       "51     -33102\n",
       "52      13477\n",
       "53      45461\n",
       "54      -3554\n",
       "Name: permit, dtype: int32"
      ]
     },
     "execution_count": 55,
     "metadata": {},
     "output_type": "execute_result"
    }
   ],
   "source": [
    "gundif.astype(int)"
   ]
  },
  {
   "cell_type": "markdown",
   "metadata": {},
   "source": [
    "#### Then find the 5 largest gainers during this time. "
   ]
  },
  {
   "cell_type": "code",
   "execution_count": 56,
   "metadata": {},
   "outputs": [
    {
     "data": {
      "text/plain": [
       "18    1960621\n",
       "15     122066\n",
       "25     115825\n",
       "37     109493\n",
       "4      107857\n",
       "Name: permit, dtype: int64"
      ]
     },
     "execution_count": 56,
     "metadata": {},
     "output_type": "execute_result"
    }
   ],
   "source": [
    "gundif.nlargest(n=5)"
   ]
  },
  {
   "cell_type": "markdown",
   "metadata": {},
   "source": [
    "#### Tie state name to difference using index, then answer first question.  "
   ]
  },
  {
   "cell_type": "code",
   "execution_count": 57,
   "metadata": {},
   "outputs": [
    {
     "name": "stdout",
     "output_type": "stream",
     "text": [
      "States with largest gain in gun registrations:\n",
      "State\\ # increase\n",
      "Kentucky 1960621\n",
      "Indiana 122066\n",
      "Minnesota 115825\n",
      "Ohio 109493\n",
      "California 107857\n"
     ]
    }
   ],
   "source": [
    "print(\"States with largest gain in gun registrations:\")\n",
    "print(\"State\\\\\",\"# increase\");\n",
    "print(gun2013['state'][18],gundif[18]);\n",
    "print(gun2013['state'][15],gundif[15]);\n",
    "print(gun2013['state'][25],gundif[25]);\n",
    "print(gun2013['state'][37],gundif[37]);\n",
    "print(gun2013['state'][4],gundif[4]);"
   ]
  },
  {
   "cell_type": "markdown",
   "metadata": {},
   "source": [
    "#### Kentucky has seen the greatest increase in registrations during our timeframe, with Indiana, Minnesota, Ohio, and California rounding out the top five.  "
   ]
  },
  {
   "cell_type": "markdown",
   "metadata": {},
   "source": [
    "### Do gun registrations increase during election years?"
   ]
  },
  {
   "cell_type": "markdown",
   "metadata": {},
   "source": [
    "#### For this question, I can use my prior newgun dataset.  "
   ]
  },
  {
   "cell_type": "code",
   "execution_count": 58,
   "metadata": {},
   "outputs": [],
   "source": [
    "newgungroup = newgun.groupby(['year'])['permit'].sum().reset_index().copy()"
   ]
  },
  {
   "cell_type": "code",
   "execution_count": 59,
   "metadata": {},
   "outputs": [],
   "source": [
    "newgungroup = newgungroup.astype(int)"
   ]
  },
  {
   "cell_type": "code",
   "execution_count": 60,
   "metadata": {},
   "outputs": [],
   "source": [
    "newgungroup['year'] = pd.to_datetime(newgungroup[\"year\"].astype(str), format=\"%Y\")"
   ]
  },
  {
   "cell_type": "code",
   "execution_count": 61,
   "metadata": {},
   "outputs": [
    {
     "name": "stdout",
     "output_type": "stream",
     "text": [
      "         year    permit\n",
      "0  1998-01-01     78169\n",
      "1  1999-01-01   1037700\n",
      "2  2000-01-01   1227814\n",
      "3  2001-01-01   1408338\n",
      "4  2002-01-01   1363211\n",
      "5  2003-01-01   1403496\n",
      "6  2004-01-01   1345672\n",
      "7  2005-01-01   1350193\n",
      "8  2006-01-01   2037453\n",
      "9  2007-01-01   3078802\n",
      "10 2008-01-01   3699021\n",
      "11 2009-01-01   4450822\n",
      "12 2010-01-01   4884307\n",
      "13 2011-01-01   5545457\n",
      "14 2012-01-01   5683547\n",
      "15 2013-01-01   6169832\n",
      "16 2014-01-01   7769858\n",
      "17 2015-01-01   8782048\n",
      "18 2016-01-01  11134651\n",
      "19 2017-01-01   7469845\n"
     ]
    }
   ],
   "source": [
    "print(newgungroup)"
   ]
  },
  {
   "cell_type": "code",
   "execution_count": 62,
   "metadata": {},
   "outputs": [
    {
     "data": {
      "text/plain": [
       "<matplotlib.axes._subplots.AxesSubplot at 0x17ac86b6610>"
      ]
     },
     "execution_count": 62,
     "metadata": {},
     "output_type": "execute_result"
    },
    {
     "data": {
      "image/png": "[encoded data removed]",
      "text/plain": [
       "<Figure size 432x288 with 1 Axes>"
      ]
     },
     "metadata": {
      "needs_background": "light"
     },
     "output_type": "display_data"
    }
   ],
   "source": [
    "newgungroup.plot(x = 'year', y = 'permit')"
   ]
  },
  {
   "cell_type": "markdown",
   "metadata": {},
   "source": [
    "#### We can see with this graph that there isn't a strong relationship between the different election years and the number of gun registrations. The best conclusion we can make from this data is that gun registrations appear to be trending higher across time.   "
   ]
  },
  {
   "cell_type": "markdown",
   "metadata": {
    "scrolled": true
   },
   "source": [
    "### Does ethnic diversity impact gun regristrations?"
   ]
  },
  {
   "cell_type": "markdown",
   "metadata": {},
   "source": [
    "#### First off, I want to create a new list that contains the state and value for the top five states for each racial category.  "
   ]
  },
  {
   "cell_type": "code",
   "execution_count": null,
   "metadata": {},
   "outputs": [],
   "source": []
  },
  {
   "cell_type": "code",
   "execution_count": 63,
   "metadata": {},
   "outputs": [],
   "source": [
    "top5 = []\n",
    "listcols = ['% Black','% Native Americans','% Asian','% Hawaiian','% Two or more','% Latino','% White']\n",
    "\n",
    "for column in listcols:\n",
    "    newframe = census[[column]].copy()\n",
    "    top5.append(newframe.nlargest(5,column))"
   ]
  },
  {
   "cell_type": "markdown",
   "metadata": {},
   "source": [
    "#### Now lets see what states have the most of each race, we will compare this to our registration data later.  "
   ]
  },
  {
   "cell_type": "code",
   "execution_count": 64,
   "metadata": {},
   "outputs": [
    {
     "data": {
      "text/plain": [
       "[             % Black\n",
       " Mississippi     37.7\n",
       " Louisiana       32.6\n",
       " Georgia         32.0\n",
       " Maryland        30.7\n",
       " Alabama         26.8,\n",
       "             % Native Americans\n",
       " Alaska                    15.2\n",
       " Montana                    6.6\n",
       " Arizona                    5.4\n",
       " Wyoming                    2.7\n",
       " Washington                 1.9,\n",
       "             % Asian\n",
       " Hawaii         37.7\n",
       " California     14.8\n",
       " New Jersey      9.8\n",
       " Nevada          8.7\n",
       " Washington      8.6,\n",
       "             % Hawaiian\n",
       " Hawaii            10.2\n",
       " Alaska             1.3\n",
       " Utah               1.0\n",
       " Nevada             0.8\n",
       " Washington         0.8,\n",
       "             % Two or more\n",
       " Hawaii               23.7\n",
       " Alaska                7.3\n",
       " Washington            4.6\n",
       " Nevada                4.2\n",
       " California            3.8,\n",
       "             % Latino\n",
       " Texas           39.1\n",
       " California      38.9\n",
       " Arizona         30.9\n",
       " Nevada          28.5\n",
       " Florida         24.9,\n",
       "                % White\n",
       " Maine             93.5\n",
       " Vermont           93.1\n",
       " West Virginia     92.3\n",
       " New Hampshire     90.8\n",
       " Montana           86.5]"
      ]
     },
     "execution_count": 64,
     "metadata": {},
     "output_type": "execute_result"
    }
   ],
   "source": [
    "top5"
   ]
  },
  {
   "cell_type": "markdown",
   "metadata": {},
   "source": [
    "#### Now I'll create a new group made up of the sum of all permits by state, then order that data by number of permits.    "
   ]
  },
  {
   "cell_type": "code",
   "execution_count": 65,
   "metadata": {},
   "outputs": [],
   "source": [
    "gungroup = newgun.groupby(['state'])['permit'].sum().reset_index().copy()"
   ]
  },
  {
   "cell_type": "code",
   "execution_count": 66,
   "metadata": {
    "scrolled": true
   },
   "outputs": [
    {
     "data": {
      "text/html": [
       "<div>\n",
       "<style scoped>\n",
       "    .dataframe tbody tr th:only-of-type {\n",
       "        vertical-align: middle;\n",
       "    }\n",
       "\n",
       "    .dataframe tbody tr th {\n",
       "        vertical-align: top;\n",
       "    }\n",
       "\n",
       "    .dataframe thead th {\n",
       "        text-align: right;\n",
       "    }\n",
       "</style>\n",
       "<table border=\"1\" class=\"dataframe\">\n",
       "  <thead>\n",
       "    <tr style=\"text-align: right;\">\n",
       "      <th></th>\n",
       "      <th>state</th>\n",
       "      <th>permit</th>\n",
       "    </tr>\n",
       "  </thead>\n",
       "  <tbody>\n",
       "    <tr>\n",
       "      <th>41</th>\n",
       "      <td>Puerto Rico</td>\n",
       "      <td>0</td>\n",
       "    </tr>\n",
       "    <tr>\n",
       "      <th>32</th>\n",
       "      <td>New Jersey</td>\n",
       "      <td>0</td>\n",
       "    </tr>\n",
       "    <tr>\n",
       "      <th>21</th>\n",
       "      <td>Mariana Islands</td>\n",
       "      <td>0</td>\n",
       "    </tr>\n",
       "    <tr>\n",
       "      <th>48</th>\n",
       "      <td>Vermont</td>\n",
       "      <td>0</td>\n",
       "    </tr>\n",
       "    <tr>\n",
       "      <th>42</th>\n",
       "      <td>Rhode Island</td>\n",
       "      <td>0</td>\n",
       "    </tr>\n",
       "    <tr>\n",
       "      <th>11</th>\n",
       "      <td>Guam</td>\n",
       "      <td>0</td>\n",
       "    </tr>\n",
       "    <tr>\n",
       "      <th>38</th>\n",
       "      <td>Oklahoma</td>\n",
       "      <td>9</td>\n",
       "    </tr>\n",
       "    <tr>\n",
       "      <th>8</th>\n",
       "      <td>District of Columbia</td>\n",
       "      <td>330</td>\n",
       "    </tr>\n",
       "    <tr>\n",
       "      <th>49</th>\n",
       "      <td>Virgin Islands</td>\n",
       "      <td>11485</td>\n",
       "    </tr>\n",
       "    <tr>\n",
       "      <th>1</th>\n",
       "      <td>Alaska</td>\n",
       "      <td>13352</td>\n",
       "    </tr>\n",
       "    <tr>\n",
       "      <th>20</th>\n",
       "      <td>Maine</td>\n",
       "      <td>17260</td>\n",
       "    </tr>\n",
       "    <tr>\n",
       "      <th>7</th>\n",
       "      <td>Delaware</td>\n",
       "      <td>22720</td>\n",
       "    </tr>\n",
       "    <tr>\n",
       "      <th>50</th>\n",
       "      <td>Virginia</td>\n",
       "      <td>25688</td>\n",
       "    </tr>\n",
       "    <tr>\n",
       "      <th>44</th>\n",
       "      <td>South Dakota</td>\n",
       "      <td>36637</td>\n",
       "    </tr>\n",
       "    <tr>\n",
       "      <th>39</th>\n",
       "      <td>Oregon</td>\n",
       "      <td>36899</td>\n",
       "    </tr>\n",
       "    <tr>\n",
       "      <th>54</th>\n",
       "      <td>Wyoming</td>\n",
       "      <td>78980</td>\n",
       "    </tr>\n",
       "    <tr>\n",
       "      <th>19</th>\n",
       "      <td>Louisiana</td>\n",
       "      <td>84376</td>\n",
       "    </tr>\n",
       "    <tr>\n",
       "      <th>33</th>\n",
       "      <td>New Mexico</td>\n",
       "      <td>93241</td>\n",
       "    </tr>\n",
       "    <tr>\n",
       "      <th>52</th>\n",
       "      <td>West Virginia</td>\n",
       "      <td>99018</td>\n",
       "    </tr>\n",
       "    <tr>\n",
       "      <th>26</th>\n",
       "      <td>Mississippi</td>\n",
       "      <td>99945</td>\n",
       "    </tr>\n",
       "    <tr>\n",
       "      <th>36</th>\n",
       "      <td>North Dakota</td>\n",
       "      <td>104526</td>\n",
       "    </tr>\n",
       "    <tr>\n",
       "      <th>28</th>\n",
       "      <td>Montana</td>\n",
       "      <td>145138</td>\n",
       "    </tr>\n",
       "    <tr>\n",
       "      <th>17</th>\n",
       "      <td>Kansas</td>\n",
       "      <td>155471</td>\n",
       "    </tr>\n",
       "    <tr>\n",
       "      <th>12</th>\n",
       "      <td>Hawaii</td>\n",
       "      <td>197321</td>\n",
       "    </tr>\n",
       "    <tr>\n",
       "      <th>30</th>\n",
       "      <td>Nevada</td>\n",
       "      <td>212922</td>\n",
       "    </tr>\n",
       "    <tr>\n",
       "      <th>22</th>\n",
       "      <td>Maryland</td>\n",
       "      <td>345839</td>\n",
       "    </tr>\n",
       "    <tr>\n",
       "      <th>13</th>\n",
       "      <td>Idaho</td>\n",
       "      <td>369220</td>\n",
       "    </tr>\n",
       "    <tr>\n",
       "      <th>37</th>\n",
       "      <td>Ohio</td>\n",
       "      <td>372281</td>\n",
       "    </tr>\n",
       "    <tr>\n",
       "      <th>31</th>\n",
       "      <td>New Hampshire</td>\n",
       "      <td>409328</td>\n",
       "    </tr>\n",
       "    <tr>\n",
       "      <th>5</th>\n",
       "      <td>Colorado</td>\n",
       "      <td>426970</td>\n",
       "    </tr>\n",
       "    <tr>\n",
       "      <th>27</th>\n",
       "      <td>Missouri</td>\n",
       "      <td>459241</td>\n",
       "    </tr>\n",
       "    <tr>\n",
       "      <th>3</th>\n",
       "      <td>Arkansas</td>\n",
       "      <td>507951</td>\n",
       "    </tr>\n",
       "    <tr>\n",
       "      <th>29</th>\n",
       "      <td>Nebraska</td>\n",
       "      <td>557192</td>\n",
       "    </tr>\n",
       "    <tr>\n",
       "      <th>2</th>\n",
       "      <td>Arizona</td>\n",
       "      <td>710509</td>\n",
       "    </tr>\n",
       "    <tr>\n",
       "      <th>53</th>\n",
       "      <td>Wisconsin</td>\n",
       "      <td>768091</td>\n",
       "    </tr>\n",
       "    <tr>\n",
       "      <th>34</th>\n",
       "      <td>New York</td>\n",
       "      <td>804474</td>\n",
       "    </tr>\n",
       "    <tr>\n",
       "      <th>43</th>\n",
       "      <td>South Carolina</td>\n",
       "      <td>935319</td>\n",
       "    </tr>\n",
       "    <tr>\n",
       "      <th>0</th>\n",
       "      <td>Alabama</td>\n",
       "      <td>1047441</td>\n",
       "    </tr>\n",
       "    <tr>\n",
       "      <th>9</th>\n",
       "      <td>Florida</td>\n",
       "      <td>1088802</td>\n",
       "    </tr>\n",
       "    <tr>\n",
       "      <th>45</th>\n",
       "      <td>Tennessee</td>\n",
       "      <td>1130468</td>\n",
       "    </tr>\n",
       "    <tr>\n",
       "      <th>23</th>\n",
       "      <td>Massachusetts</td>\n",
       "      <td>1365225</td>\n",
       "    </tr>\n",
       "    <tr>\n",
       "      <th>16</th>\n",
       "      <td>Iowa</td>\n",
       "      <td>1467974</td>\n",
       "    </tr>\n",
       "    <tr>\n",
       "      <th>40</th>\n",
       "      <td>Pennsylvania</td>\n",
       "      <td>1496008</td>\n",
       "    </tr>\n",
       "    <tr>\n",
       "      <th>6</th>\n",
       "      <td>Connecticut</td>\n",
       "      <td>1595270</td>\n",
       "    </tr>\n",
       "    <tr>\n",
       "      <th>51</th>\n",
       "      <td>Washington</td>\n",
       "      <td>1668159</td>\n",
       "    </tr>\n",
       "    <tr>\n",
       "      <th>10</th>\n",
       "      <td>Georgia</td>\n",
       "      <td>1786708</td>\n",
       "    </tr>\n",
       "    <tr>\n",
       "      <th>25</th>\n",
       "      <td>Minnesota</td>\n",
       "      <td>2453637</td>\n",
       "    </tr>\n",
       "    <tr>\n",
       "      <th>47</th>\n",
       "      <td>Utah</td>\n",
       "      <td>2753458</td>\n",
       "    </tr>\n",
       "    <tr>\n",
       "      <th>46</th>\n",
       "      <td>Texas</td>\n",
       "      <td>2857582</td>\n",
       "    </tr>\n",
       "    <tr>\n",
       "      <th>15</th>\n",
       "      <td>Indiana</td>\n",
       "      <td>2965760</td>\n",
       "    </tr>\n",
       "    <tr>\n",
       "      <th>24</th>\n",
       "      <td>Michigan</td>\n",
       "      <td>3313076</td>\n",
       "    </tr>\n",
       "    <tr>\n",
       "      <th>35</th>\n",
       "      <td>North Carolina</td>\n",
       "      <td>3872974</td>\n",
       "    </tr>\n",
       "    <tr>\n",
       "      <th>4</th>\n",
       "      <td>California</td>\n",
       "      <td>6530543</td>\n",
       "    </tr>\n",
       "    <tr>\n",
       "      <th>14</th>\n",
       "      <td>Illinois</td>\n",
       "      <td>9498639</td>\n",
       "    </tr>\n",
       "    <tr>\n",
       "      <th>18</th>\n",
       "      <td>Kentucky</td>\n",
       "      <td>24926779</td>\n",
       "    </tr>\n",
       "  </tbody>\n",
       "</table>\n",
       "</div>"
      ],
      "text/plain": [
       "                   state    permit\n",
       "41           Puerto Rico         0\n",
       "32            New Jersey         0\n",
       "21       Mariana Islands         0\n",
       "48               Vermont         0\n",
       "42          Rhode Island         0\n",
       "11                  Guam         0\n",
       "38              Oklahoma         9\n",
       "8   District of Columbia       330\n",
       "49        Virgin Islands     11485\n",
       "1                 Alaska     13352\n",
       "20                 Maine     17260\n",
       "7               Delaware     22720\n",
       "50              Virginia     25688\n",
       "44          South Dakota     36637\n",
       "39                Oregon     36899\n",
       "54               Wyoming     78980\n",
       "19             Louisiana     84376\n",
       "33            New Mexico     93241\n",
       "52         West Virginia     99018\n",
       "26           Mississippi     99945\n",
       "36          North Dakota    104526\n",
       "28               Montana    145138\n",
       "17                Kansas    155471\n",
       "12                Hawaii    197321\n",
       "30                Nevada    212922\n",
       "22              Maryland    345839\n",
       "13                 Idaho    369220\n",
       "37                  Ohio    372281\n",
       "31         New Hampshire    409328\n",
       "5               Colorado    426970\n",
       "27              Missouri    459241\n",
       "3               Arkansas    507951\n",
       "29              Nebraska    557192\n",
       "2                Arizona    710509\n",
       "53             Wisconsin    768091\n",
       "34              New York    804474\n",
       "43        South Carolina    935319\n",
       "0                Alabama   1047441\n",
       "9                Florida   1088802\n",
       "45             Tennessee   1130468\n",
       "23         Massachusetts   1365225\n",
       "16                  Iowa   1467974\n",
       "40          Pennsylvania   1496008\n",
       "6            Connecticut   1595270\n",
       "51            Washington   1668159\n",
       "10               Georgia   1786708\n",
       "25             Minnesota   2453637\n",
       "47                  Utah   2753458\n",
       "46                 Texas   2857582\n",
       "15               Indiana   2965760\n",
       "24              Michigan   3313076\n",
       "35        North Carolina   3872974\n",
       "4             California   6530543\n",
       "14              Illinois   9498639\n",
       "18              Kentucky  24926779"
      ]
     },
     "execution_count": 66,
     "metadata": {},
     "output_type": "execute_result"
    }
   ],
   "source": [
    "gungroup.sort_values('permit')"
   ]
  },
  {
   "cell_type": "markdown",
   "metadata": {},
   "source": [
    "#### This shows us that there are some states that have not had any data reported, while others have plenty of datapoints.  This leads me to believe that this data may not be the most reliable source due to differing state reporting requirements. \n",
    "#### To our question at hand, we need to look at the states with the largest % of the total to see if there are trends we can draw from their racial makeup.   "
   ]
  },
  {
   "cell_type": "code",
   "execution_count": 67,
   "metadata": {},
   "outputs": [
    {
     "data": {
      "text/plain": [
       "79920236"
      ]
     },
     "execution_count": 67,
     "metadata": {},
     "output_type": "execute_result"
    }
   ],
   "source": [
    "gungroup['permit'].sum()"
   ]
  },
  {
   "cell_type": "code",
   "execution_count": 68,
   "metadata": {},
   "outputs": [],
   "source": [
    "gunpercent = gungroup['permit'] / 79920236"
   ]
  },
  {
   "cell_type": "markdown",
   "metadata": {},
   "source": [
    "#### Change our data to float, then take the top five.  "
   ]
  },
  {
   "cell_type": "code",
   "execution_count": 69,
   "metadata": {},
   "outputs": [
    {
     "data": {
      "text/plain": [
       "0     1.310608e-02\n",
       "1     1.670666e-04\n",
       "2     8.890227e-03\n",
       "3     6.355724e-03\n",
       "4     8.171326e-02\n",
       "5     5.342452e-03\n",
       "6     1.996078e-02\n",
       "7     2.842834e-04\n",
       "8     4.129117e-06\n",
       "9     1.362361e-02\n",
       "10    2.235614e-02\n",
       "11    0.000000e+00\n",
       "12    2.468974e-03\n",
       "13    4.619856e-03\n",
       "14    1.188515e-01\n",
       "15    3.710900e-02\n",
       "16    1.836799e-02\n",
       "17    1.945327e-03\n",
       "18    3.118957e-01\n",
       "19    1.055753e-03\n",
       "20    2.159653e-04\n",
       "21    0.000000e+00\n",
       "22    4.327302e-03\n",
       "23    1.708234e-02\n",
       "24    4.145478e-02\n",
       "25    3.070107e-02\n",
       "26    1.250559e-03\n",
       "27    5.746242e-03\n",
       "28    1.816036e-03\n",
       "29    6.971851e-03\n",
       "30    2.664181e-03\n",
       "31    5.121707e-03\n",
       "32    0.000000e+00\n",
       "33    1.166676e-03\n",
       "34    1.006596e-02\n",
       "35    4.846049e-02\n",
       "36    1.307879e-03\n",
       "37    4.658157e-03\n",
       "38    1.126123e-07\n",
       "39    4.616978e-04\n",
       "40    1.871876e-02\n",
       "41    0.000000e+00\n",
       "42    0.000000e+00\n",
       "43    1.170316e-02\n",
       "44    4.584196e-04\n",
       "45    1.414495e-02\n",
       "46    3.575542e-02\n",
       "47    3.445258e-02\n",
       "48    0.000000e+00\n",
       "49    1.437058e-04\n",
       "50    3.214205e-04\n",
       "51    2.087280e-02\n",
       "52    1.238960e-03\n",
       "53    9.610720e-03\n",
       "54    9.882353e-04\n",
       "Name: permit, dtype: float64"
      ]
     },
     "execution_count": 69,
     "metadata": {},
     "output_type": "execute_result"
    }
   ],
   "source": [
    "gunpercent.astype(float)"
   ]
  },
  {
   "cell_type": "code",
   "execution_count": 70,
   "metadata": {
    "scrolled": false
   },
   "outputs": [
    {
     "data": {
      "text/plain": [
       "18    0.311896\n",
       "14    0.118851\n",
       "4     0.081713\n",
       "35    0.048460\n",
       "24    0.041455\n",
       "Name: permit, dtype: float64"
      ]
     },
     "execution_count": 70,
     "metadata": {},
     "output_type": "execute_result"
    }
   ],
   "source": [
    "gunpercent.nlargest(n=5)"
   ]
  },
  {
   "cell_type": "markdown",
   "metadata": {},
   "source": [
    "#### Tie the state from our prior gun data index to the rounded percentage from the gunpercent data. "
   ]
  },
  {
   "cell_type": "code",
   "execution_count": 71,
   "metadata": {
    "scrolled": true
   },
   "outputs": [
    {
     "name": "stdout",
     "output_type": "stream",
     "text": [
      "States with largest % of gun registrations:\n",
      "State\\ % of registrations\n",
      "Kentucky 0.31\n",
      "Illinois 0.12\n",
      "California 0.08\n",
      "North Carolina 0.05\n",
      "Michigan 0.04\n"
     ]
    }
   ],
   "source": [
    "print(\"States with largest % of gun registrations:\")\n",
    "print(\"State\\\\\",\"% of registrations\");\n",
    "print(gun2013['state'][18],gunpercent[18].round(2));\n",
    "print(gun2013['state'][14],gunpercent[14].round(2));\n",
    "print(gun2013['state'][4],gunpercent[4].round(2));\n",
    "print(gun2013['state'][35],gunpercent[35].round(2));\n",
    "print(gun2013['state'][24],gunpercent[24].round(2));"
   ]
  },
  {
   "cell_type": "markdown",
   "metadata": {},
   "source": [
    "#### Now I want to take a copy of the census data, transposed, with the population rows removed so I can graph the racial makeup of the states with the most registrations. "
   ]
  },
  {
   "cell_type": "code",
   "execution_count": 72,
   "metadata": {},
   "outputs": [],
   "source": [
    "tcensus = census.transpose().copy()\n",
    "tcensus = tcensus.iloc[2:]\n",
    "states = ['Kentucky','Illinois','California','North Carolina','Michigan']"
   ]
  },
  {
   "cell_type": "code",
   "execution_count": 73,
   "metadata": {
    "scrolled": false
   },
   "outputs": [
    {
     "name": "stdout",
     "output_type": "stream",
     "text": [
      "AxesSubplot(0.32375,0.125;0.3775x0.755)\n",
      "AxesSubplot(0.32375,0.125;0.3775x0.755)\n",
      "AxesSubplot(0.32375,0.125;0.3775x0.755)\n",
      "AxesSubplot(0.32375,0.125;0.3775x0.755)\n",
      "AxesSubplot(0.32375,0.125;0.3775x0.755)\n"
     ]
    },
    {
     "data": {
      "image/png": "[encoded data removed]",
      "text/plain": [
       "<Figure size 1440x720 with 1 Axes>"
      ]
     },
     "metadata": {},
     "output_type": "display_data"
    },
    {
     "data": {
      "image/png": "[encoded data removed]",
      "text/plain": [
       "<Figure size 1440x720 with 1 Axes>"
      ]
     },
     "metadata": {},
     "output_type": "display_data"
    },
    {
     "data": {
      "image/png": "[encoded data removed]",
      "text/plain": [
       "<Figure size 1440x720 with 1 Axes>"
      ]
     },
     "metadata": {},
     "output_type": "display_data"
    },
    {
     "data": {
      "image/png": "[encoded data removed]",
      "text/plain": [
       "<Figure size 1440x720 with 1 Axes>"
      ]
     },
     "metadata": {},
     "output_type": "display_data"
    },
    {
     "data": {
      "image/png": "[encoded data removed]",
      "text/plain": [
       "<Figure size 1440x720 with 1 Axes>"
      ]
     },
     "metadata": {},
     "output_type": "display_data"
    }
   ],
   "source": [
    "for col in states:\n",
    "    print(tcensus.plot.pie(y = col, legend =True, labeldistance=None, figsize=(20,10), autopct='%.2f', fontsize=10));\n",
    "    "
   ]
  },
  {
   "cell_type": "markdown",
   "metadata": {},
   "source": [
    "#### The racial makeup of these states varies greatly, there doesn't appear to be any correlation, but lets take a closer look at the numbers.  "
   ]
  },
  {
   "cell_type": "code",
   "execution_count": 74,
   "metadata": {
    "scrolled": true
   },
   "outputs": [
    {
     "name": "stdout",
     "output_type": "stream",
     "text": [
      "% Black                8.3\n",
      "% Native Americans     0.3\n",
      "% Asian                1.5\n",
      "% Hawaiian             0.1\n",
      "% Two or more          1.9\n",
      "% Latino               3.5\n",
      "% White               85.0\n",
      "Name: Kentucky, dtype: float64\n",
      "% Black               14.7\n",
      "% Native Americans     0.6\n",
      "% Asian                5.5\n",
      "% Hawaiian             0.1\n",
      "% Two or more          1.9\n",
      "% Latino              17.0\n",
      "% White               61.7\n",
      "Name: Illinois, dtype: float64\n",
      "% Black                6.5\n",
      "% Native Americans     1.7\n",
      "% Asian               14.8\n",
      "% Hawaiian             0.5\n",
      "% Two or more          3.8\n",
      "% Latino              38.9\n",
      "% White               37.7\n",
      "Name: California, dtype: float64\n",
      "% Black               0.222\n",
      "% Native Americans    0.016\n",
      "% Asian               0.029\n",
      "% Hawaiian            0.001\n",
      "% Two or more         0.022\n",
      "% Latino              0.092\n",
      "% White               0.635\n",
      "Name: North Carolina, dtype: float64\n",
      "% Black               14.2\n",
      "% Native Americans     0.7\n",
      "% Asian                3.1\n",
      "% Hawaiian             NaN\n",
      "% Two or more          2.4\n",
      "% Latino               5.0\n",
      "% White               75.4\n",
      "Name: Michigan, dtype: float64\n"
     ]
    }
   ],
   "source": [
    "for col in states:\n",
    "    print(tcensus[col])"
   ]
  },
  {
   "cell_type": "markdown",
   "metadata": {},
   "source": [
    "#### This still looks pretty varied and like there aren't any meaningful connections that can be drawn from our data about overall registrations and the racial makeup of the states that had the most registrations across this dataset.  "
   ]
  },
  {
   "cell_type": "markdown",
   "metadata": {},
   "source": [
    "#### One very interesting note is the breakdown by state and # of permits, the top state (Kentucky) comprises nearly 1/3 of the total permit registrations, while the top three (Kentucky, Illinois, California) accounted for nearly half of all permit registrations.   "
   ]
  },
  {
   "cell_type": "code",
   "execution_count": 75,
   "metadata": {},
   "outputs": [
    {
     "data": {
      "image/png": "[encoded data removed]",
      "text/plain": [
       "<Figure size 432x288 with 1 Axes>"
      ]
     },
     "metadata": {},
     "output_type": "display_data"
    }
   ],
   "source": [
    "gunpercent.plot.pie(x = 'permit', labels = gun2013['state']);"
   ]
  },
  {
   "cell_type": "markdown",
   "metadata": {},
   "source": [
    "<a id='conclusions'></a>\n",
    "## Conclusions\n",
    "\n",
    "#### In this phase of the project, I am reflecting on the conclusions I have drawn from the data, what it is that cannot be determined without further exploration, and why.  \n",
    "\n",
    "#### I imported the required csv files, cleaned, and manipulated the data into a useable formart, then answered the following questions:\n",
    "\n",
    "### What states have the largest gun registration growth between 2013 and 2017?\n",
    "\n",
    "#### Our data indicated Kentucky had the greatest increase in registrations during our timeframe, however, during the analysis process it became apparent that this data is greatly skewed.  Drawing conclusions on individual state trends is not definitive because of this skewed dataset.  \n",
    "\n",
    "### Do gun registrations increase during election years?\n",
    "\n",
    "#### For this question, we grouped all of our gun data by year and graphed it to determine if we saw any upticks or downticks during elction years, and we found no correlation between election year and number of gun permit registrations, however, I did observe a different seemingly positive correlation between time and number of registrations.  \n",
    "#### The skewed data will continue to impact results, but that impact should be minimized by the aggregation across states by year.   \n",
    "\n",
    "### Does ethnic diversity impact gun regristrations?\n",
    "\n",
    "#### For this question, I determined which states had the highest proportion of each of the race columns, then compared the percentages of total gun registrations for each state. The states with the highest percentages did not correspond to the states that had higher than average proportions of any particular race. There we no aparent trends between the racial makeups of the states with the highest gun registration percentages.  \n",
    "\n",
    "\n",
    "### Limitations:\n",
    "#### The skewed data set was a great limitation, as it doesn't seem likely that 1 state in the country would account for one third of the gun permit registrations, and 3 states account for nearly half.  If the sample is not truly representative of the underlying population, one runs the risk of having a biased analysis .  \n",
    "#### Another limitation from this data set is the number of columns that had to be disregarded due to null or missing values.  This could be the result of different states having different reporting standards at different times.  This leads to one running the risk of making incorrect predictions based on the incomplete data.  \n"
   ]
  },
  {
   "cell_type": "code",
   "execution_count": null,
   "metadata": {},
   "outputs": [],
   "source": []
  }
 ],
 "metadata": {
  "kernelspec": {
   "display_name": "Python 3",
   "language": "python",
   "name": "python3"
  },
  "language_info": {
   "codemirror_mode": {
    "name": "ipython",
    "version": 3
   },
   "file_extension": ".py",
   "mimetype": "text/x-python",
   "name": "python",
   "nbconvert_exporter": "python",
   "pygments_lexer": "ipython3",
   "version": "3.8.5"
  }
 },
 "nbformat": 4,
 "nbformat_minor": 2
}
